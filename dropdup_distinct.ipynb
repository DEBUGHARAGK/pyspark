{
 "cells": [
  {
   "cell_type": "code",
   "execution_count": 1,
   "metadata": {},
   "outputs": [],
   "source": [
    "from pyspark.sql import SparkSession\n",
    "spark = SparkSession.builder.appName(\"dropdup_distinct\").getOrCreate()"
   ]
  },
  {
   "cell_type": "code",
   "execution_count": 2,
   "metadata": {},
   "outputs": [
    {
     "name": "stdout",
     "output_type": "stream",
     "text": [
      "+----+---+\n",
      "|name|age|\n",
      "+----+---+\n",
      "|John| 30|\n",
      "|Jane| 25|\n",
      "+----+---+\n",
      "\n"
     ]
    }
   ],
   "source": [
    "# Sample data with duplicates\n",
    "data = [(\"John\", 30), (\"Jane\", 25), (\"John\", 30)]\n",
    "df = spark.createDataFrame(data, [\"name\", \"age\"])\n",
    "\n",
    "# Remove duplicate rows using distinct()\n",
    "df_distinct = df.distinct()\n",
    "\n",
    "df_distinct.show()"
   ]
  },
  {
   "cell_type": "code",
   "execution_count": 3,
   "metadata": {},
   "outputs": [
    {
     "name": "stdout",
     "output_type": "stream",
     "text": [
      "+----+---+------+\n",
      "|name|age|gender|\n",
      "+----+---+------+\n",
      "|Jane| 25|     F|\n",
      "|John| 25|     M|\n",
      "|John| 30|     M|\n",
      "+----+---+------+\n",
      "\n"
     ]
    }
   ],
   "source": [
    "# Sample data with duplicates\n",
    "data = [(\"John\", 30, \"M\"), (\"Jane\", 25, \"F\"), (\"John\", 30, \"M\"), (\"John\", 25, \"M\")]\n",
    "df = spark.createDataFrame(data, [\"name\", \"age\", \"gender\"])\n",
    "\n",
    "# Remove duplicates based on the 'name' and 'age' columns\n",
    "df_dedup = df.dropDuplicates([\"name\", \"age\"])\n",
    "\n",
    "df_dedup.show()\n"
   ]
  },
  {
   "cell_type": "markdown",
   "metadata": {},
   "source": [
    "order by and sort by"
   ]
  },
  {
   "cell_type": "code",
   "execution_count": 4,
   "metadata": {},
   "outputs": [
    {
     "name": "stdout",
     "output_type": "stream",
     "text": [
      "+----+---+------+\n",
      "|name|age|gender|\n",
      "+----+---+------+\n",
      "|John| 30|     M|\n",
      "|Jane| 25|     F|\n",
      "|John| 30|     M|\n",
      "|John| 25|     M|\n",
      "+----+---+------+\n",
      "\n"
     ]
    }
   ],
   "source": [
    "# Remove duplicates based on the 'name' and 'age' columns\n",
    "df.show()"
   ]
  },
  {
   "cell_type": "code",
   "execution_count": 6,
   "metadata": {},
   "outputs": [
    {
     "name": "stdout",
     "output_type": "stream",
     "text": [
      "+----+---+------+\n",
      "|name|age|gender|\n",
      "+----+---+------+\n",
      "|John| 30|     M|\n",
      "|John| 30|     M|\n",
      "|John| 25|     M|\n",
      "|Jane| 25|     F|\n",
      "+----+---+------+\n",
      "\n"
     ]
    }
   ],
   "source": [
    "from pyspark.sql.functions import col, desc\n",
    "\n",
    "# Corrected sorting based on 'name' and 'age' in descending order\n",
    "df_sort = df.sort(desc('name'), desc('age'))\n",
    "\n",
    "# Display the sorted DataFrame\n",
    "df_sort.show()\n"
   ]
  },
  {
   "cell_type": "code",
   "execution_count": 7,
   "metadata": {},
   "outputs": [
    {
     "name": "stdout",
     "output_type": "stream",
     "text": [
      "+----+---+------+\n",
      "|name|age|gender|\n",
      "+----+---+------+\n",
      "|John| 30|     M|\n",
      "|John| 30|     M|\n",
      "|John| 25|     M|\n",
      "|Jane| 25|     F|\n",
      "+----+---+------+\n",
      "\n"
     ]
    }
   ],
   "source": [
    "# Corrected sorting based on 'name' and 'age' in descending order\n",
    "df_order_by = df.orderBy(desc('name'), desc('age'))\n",
    "\n",
    "# Display the sorted DataFrame\n",
    "df_order_by.show()"
   ]
  }
 ],
 "metadata": {
  "kernelspec": {
   "display_name": "pyspark_project_dev",
   "language": "python",
   "name": "python3"
  },
  "language_info": {
   "codemirror_mode": {
    "name": "ipython",
    "version": 3
   },
   "file_extension": ".py",
   "mimetype": "text/x-python",
   "name": "python",
   "nbconvert_exporter": "python",
   "pygments_lexer": "ipython3",
   "version": "3.11.0"
  }
 },
 "nbformat": 4,
 "nbformat_minor": 2
}
