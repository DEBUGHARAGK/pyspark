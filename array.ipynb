{
 "cells": [
  {
   "cell_type": "code",
   "execution_count": 1,
   "metadata": {},
   "outputs": [],
   "source": [
    "from pyspark.sql import SparkSession\n",
    "spark = SparkSession.builder.appName(\"Array\").getOrCreate()\n"
   ]
  },
  {
   "cell_type": "markdown",
   "metadata": {},
   "source": [
    "defining array"
   ]
  },
  {
   "cell_type": "code",
   "execution_count": 2,
   "metadata": {},
   "outputs": [
    {
     "name": "stdout",
     "output_type": "stream",
     "text": [
      "+----+---------+\n",
      "|name|  numbers|\n",
      "+----+---------+\n",
      "|John|[1, 2, 3]|\n",
      "|Jane|[4, 5, 6]|\n",
      "+----+---------+\n",
      "\n",
      "root\n",
      " |-- name: string (nullable = true)\n",
      " |-- numbers: array (nullable = true)\n",
      " |    |-- element: long (containsNull = true)\n",
      "\n"
     ]
    }
   ],
   "source": [
    "data = [(\"John\", [1, 2, 3]), (\"Jane\", [4, 5, 6])]\n",
    "\n",
    "# Define schema with ArrayType\n",
    "schema = [\"name\", \"numbers\"]\n",
    "\n",
    "# Create DataFrame\n",
    "df = spark.createDataFrame(data, schema)\n",
    "\n",
    "df.show()\n",
    "df.printSchema()"
   ]
  },
  {
   "cell_type": "markdown",
   "metadata": {},
   "source": [
    "Creating an Array Column Using array Function"
   ]
  },
  {
   "cell_type": "code",
   "execution_count": 3,
   "metadata": {},
   "outputs": [
    {
     "name": "stdout",
     "output_type": "stream",
     "text": [
      "+----+----+----+----+---------+\n",
      "|name|num1|num2|num3|  numbers|\n",
      "+----+----+----+----+---------+\n",
      "|John|   1|   2|   3|[1, 2, 3]|\n",
      "|Jane|   4|   5|   6|[4, 5, 6]|\n",
      "+----+----+----+----+---------+\n",
      "\n",
      "root\n",
      " |-- name: string (nullable = true)\n",
      " |-- num1: long (nullable = true)\n",
      " |-- num2: long (nullable = true)\n",
      " |-- num3: long (nullable = true)\n",
      " |-- numbers: array (nullable = false)\n",
      " |    |-- element: long (containsNull = true)\n",
      "\n"
     ]
    }
   ],
   "source": [
    "from pyspark.sql.functions import array,col\n",
    "\n",
    "data = [(\"John\", 1, 2, 3), (\"Jane\", 4, 5, 6)]\n",
    "schema = [\"name\", \"num1\", \"num2\", \"num3\"]\n",
    "\n",
    "# Create DataFrame\n",
    "df = spark.createDataFrame(data, schema)\n",
    "\n",
    "# Add array column\n",
    "df = df.withColumn(\"numbers\", array(col(\"num1\"), col(\"num2\"), col(\"num3\")))\n",
    "\n",
    "df.show()\n",
    "df.printSchema()"
   ]
  },
  {
   "cell_type": "markdown",
   "metadata": {},
   "source": [
    "ArrayType in Schema Definition"
   ]
  },
  {
   "cell_type": "code",
   "execution_count": 4,
   "metadata": {},
   "outputs": [
    {
     "name": "stdout",
     "output_type": "stream",
     "text": [
      "+----+---------+\n",
      "|name|  numbers|\n",
      "+----+---------+\n",
      "|John|[1, 2, 3]|\n",
      "|Jane|[4, 5, 6]|\n",
      "+----+---------+\n",
      "\n",
      "root\n",
      " |-- name: string (nullable = true)\n",
      " |-- numbers: array (nullable = true)\n",
      " |    |-- element: integer (containsNull = true)\n",
      "\n"
     ]
    }
   ],
   "source": [
    "from pyspark.sql.types import StructType, StructField, ArrayType, IntegerType, StringType\n",
    "\n",
    "schema = StructType([\n",
    "    StructField(\"name\", StringType(), True),\n",
    "    StructField(\"numbers\", ArrayType(IntegerType()), True)\n",
    "])\n",
    "\n",
    "# Sample data\n",
    "data = [(\"John\", [1, 2, 3]), (\"Jane\", [4, 5, 6])]\n",
    "\n",
    "# Create DataFrame with schema\n",
    "df = spark.createDataFrame(data, schema)\n",
    "\n",
    "df.show()\n",
    "df.printSchema()"
   ]
  },
  {
   "cell_type": "markdown",
   "metadata": {},
   "source": [
    "Accessing Array Elements\n"
   ]
  },
  {
   "cell_type": "code",
   "execution_count": 5,
   "metadata": {},
   "outputs": [
    {
     "name": "stdout",
     "output_type": "stream",
     "text": [
      "+----+---------+------------+\n",
      "|name|  numbers|first_number|\n",
      "+----+---------+------------+\n",
      "|John|[1, 2, 3]|           1|\n",
      "|Jane|[4, 5, 6]|           4|\n",
      "+----+---------+------------+\n",
      "\n"
     ]
    }
   ],
   "source": [
    "from pyspark.sql.functions import col\n",
    "\n",
    "# Access first element of the array\n",
    "df = df.withColumn(\"first_number\", col(\"numbers\")[0])\n",
    "df.show()\n"
   ]
  },
  {
   "cell_type": "markdown",
   "metadata": {},
   "source": [
    "Exploding Arrays\n"
   ]
  },
  {
   "cell_type": "code",
   "execution_count": 6,
   "metadata": {},
   "outputs": [
    {
     "name": "stdout",
     "output_type": "stream",
     "text": [
      "+----+---------+------------+------+\n",
      "|name|  numbers|first_number|number|\n",
      "+----+---------+------------+------+\n",
      "|John|[1, 2, 3]|           1|     1|\n",
      "|John|[1, 2, 3]|           1|     2|\n",
      "|John|[1, 2, 3]|           1|     3|\n",
      "|Jane|[4, 5, 6]|           4|     4|\n",
      "|Jane|[4, 5, 6]|           4|     5|\n",
      "|Jane|[4, 5, 6]|           4|     6|\n",
      "+----+---------+------------+------+\n",
      "\n",
      "root\n",
      " |-- name: string (nullable = true)\n",
      " |-- numbers: array (nullable = true)\n",
      " |    |-- element: integer (containsNull = true)\n",
      " |-- first_number: integer (nullable = true)\n",
      " |-- number: integer (nullable = true)\n",
      "\n"
     ]
    }
   ],
   "source": [
    "from pyspark.sql.functions import explode\n",
    "\n",
    "# Explode array column into separate rows\n",
    "df_exploded = df.withColumn(\"number\", explode(col(\"numbers\")))\n",
    "\n",
    "df_exploded.show()\n",
    "df_exploded.printSchema()\n"
   ]
  }
 ],
 "metadata": {
  "kernelspec": {
   "display_name": "pyspark_project_dev",
   "language": "python",
   "name": "python3"
  },
  "language_info": {
   "codemirror_mode": {
    "name": "ipython",
    "version": 3
   },
   "file_extension": ".py",
   "mimetype": "text/x-python",
   "name": "python",
   "nbconvert_exporter": "python",
   "pygments_lexer": "ipython3",
   "version": "3.11.0"
  }
 },
 "nbformat": 4,
 "nbformat_minor": 2
}
