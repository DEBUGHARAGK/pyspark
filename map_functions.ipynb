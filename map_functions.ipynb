{
 "cells": [
  {
   "cell_type": "code",
   "execution_count": 1,
   "metadata": {},
   "outputs": [],
   "source": [
    "from pyspark.sql import SparkSession\n",
    "spark = SparkSession.builder.appName(\"map_functions\").getOrCreate()"
   ]
  },
  {
   "cell_type": "code",
   "execution_count": 7,
   "metadata": {},
   "outputs": [
    {
     "name": "stdout",
     "output_type": "stream",
     "text": [
      "+-------+-----------------------------+\n",
      "|name   |properties                   |\n",
      "+-------+-----------------------------+\n",
      "|pradeep|{eye -> brown, hair -> black}|\n",
      "|sai    |{eye -> blue, hair -> white} |\n",
      "+-------+-----------------------------+\n",
      "\n",
      "root\n",
      " |-- name: string (nullable = true)\n",
      " |-- properties: map (nullable = true)\n",
      " |    |-- key: string\n",
      " |    |-- value: string (valueContainsNull = true)\n",
      "\n"
     ]
    }
   ],
   "source": [
    "from pyspark.sql.types import MapType,StringType,IntegerType,StructField,StructType\n",
    "\n",
    "data = [('pradeep',{'hair':'black','eye':'brown'}),\n",
    "        ('sai',{'hair':'white','eye':'blue'})]\n",
    "\n",
    "schema = ['name','properties']\n",
    "\n",
    "df = spark.createDataFrame(data,schema)\n",
    "\n",
    "df.show(truncate=False)\n",
    "df.printSchema()"
   ]
  },
  {
   "cell_type": "code",
   "execution_count": 8,
   "metadata": {},
   "outputs": [
    {
     "name": "stdout",
     "output_type": "stream",
     "text": [
      "+-------+-----------------------------+\n",
      "|name   |attributes                   |\n",
      "+-------+-----------------------------+\n",
      "|pradeep|{eye -> brown, hair -> black}|\n",
      "|sai    |{eye -> blue, hair -> white} |\n",
      "+-------+-----------------------------+\n",
      "\n",
      "root\n",
      " |-- name: string (nullable = true)\n",
      " |-- attributes: map (nullable = true)\n",
      " |    |-- key: string\n",
      " |    |-- value: string (valueContainsNull = true)\n",
      "\n"
     ]
    }
   ],
   "source": [
    "from pyspark.sql.types import MapType,StringType,StructField,StructType\n",
    "\n",
    "data = [('pradeep',{'hair':'black','eye':'brown'}),\n",
    "        ('sai',{'hair':'white','eye':'blue'})]\n",
    "\n",
    "schema = StructType([StructField('name',StringType()),\n",
    "                     StructField('attributes',MapType(StringType(),StringType()))])\n",
    "\n",
    "df = spark.createDataFrame(data,schema)\n",
    "\n",
    "df.show(truncate=False)\n",
    "df.printSchema()"
   ]
  },
  {
   "cell_type": "code",
   "execution_count": 13,
   "metadata": {},
   "outputs": [
    {
     "name": "stdout",
     "output_type": "stream",
     "text": [
      "+-------+--------------------+-----+-----+\n",
      "|   name|          attributes| hair|  eye|\n",
      "+-------+--------------------+-----+-----+\n",
      "|pradeep|{eye -> brown, ha...|black|brown|\n",
      "|    sai|{eye -> blue, hai...|white| blue|\n",
      "+-------+--------------------+-----+-----+\n",
      "\n"
     ]
    }
   ],
   "source": [
    "from pyspark.sql.functions import col,explode,map_keys,map_values\n",
    "\n",
    "df_hair = df.withColumn('hair',df.attributes['hair'])\n",
    "df_hair = df_hair.withColumn('eye',df.attributes['eye'])\n",
    "df_hair.show()"
   ]
  },
  {
   "cell_type": "code",
   "execution_count": 14,
   "metadata": {},
   "outputs": [
    {
     "name": "stdout",
     "output_type": "stream",
     "text": [
      "+-------+--------------------+-----------+\n",
      "|   name|          attributes|       keys|\n",
      "+-------+--------------------+-----------+\n",
      "|pradeep|{eye -> brown, ha...|[eye, hair]|\n",
      "|    sai|{eye -> blue, hai...|[eye, hair]|\n",
      "+-------+--------------------+-----------+\n",
      "\n"
     ]
    }
   ],
   "source": [
    "df_map_keys = df.withColumn('keys',map_keys(df.attributes))\n",
    "df_map_keys.show()"
   ]
  }
 ],
 "metadata": {
  "kernelspec": {
   "display_name": "pyspark_project_dev",
   "language": "python",
   "name": "python3"
  },
  "language_info": {
   "codemirror_mode": {
    "name": "ipython",
    "version": 3
   },
   "file_extension": ".py",
   "mimetype": "text/x-python",
   "name": "python",
   "nbconvert_exporter": "python",
   "pygments_lexer": "ipython3",
   "version": "3.11.0"
  }
 },
 "nbformat": 4,
 "nbformat_minor": 2
}
