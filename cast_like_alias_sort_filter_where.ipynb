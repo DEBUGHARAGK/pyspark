{
 "cells": [
  {
   "cell_type": "code",
   "execution_count": 1,
   "metadata": {},
   "outputs": [],
   "source": [
    "from pyspark.sql import SparkSession\n",
    "spark = SparkSession.builder.appName(\"cast_like_alias_sort\").getOrCreate()"
   ]
  },
  {
   "cell_type": "code",
   "execution_count": 2,
   "metadata": {},
   "outputs": [
    {
     "name": "stdout",
     "output_type": "stream",
     "text": [
      "+-----+\n",
      "|years|\n",
      "+-----+\n",
      "|   30|\n",
      "|   25|\n",
      "+-----+\n",
      "\n"
     ]
    }
   ],
   "source": [
    "from pyspark.sql.functions import col\n",
    "# Sample data\n",
    "data = [(\"John\", 30), (\"Jane\", 25)]\n",
    "df = spark.createDataFrame(data, [\"name\", \"age\"])\n",
    "\n",
    "# Rename the 'age' column temporarily using alias\n",
    "df_with_alias = df.select(col(\"age\").alias(\"years\"))\n",
    "\n",
    "df_with_alias.show()"
   ]
  },
  {
   "cell_type": "code",
   "execution_count": 3,
   "metadata": {},
   "outputs": [
    {
     "name": "stdout",
     "output_type": "stream",
     "text": [
      "+----+---+\n",
      "|name|age|\n",
      "+----+---+\n",
      "|Jane| 25|\n",
      "|John| 30|\n",
      "+----+---+\n",
      "\n",
      "+----+---+\n",
      "|name|age|\n",
      "+----+---+\n",
      "|John| 30|\n",
      "|Jane| 25|\n",
      "+----+---+\n",
      "\n"
     ]
    }
   ],
   "source": [
    "# Sort the DataFrame by 'age' in ascending order\n",
    "df_sorted_asc = df.orderBy(col(\"age\").asc())\n",
    "df_sorted_asc.show()\n",
    "\n",
    "# Sort the DataFrame by 'age' in descending order\n",
    "df_sorted_desc = df.orderBy(col(\"age\").desc())\n",
    "df_sorted_desc.show()\n"
   ]
  },
  {
   "cell_type": "code",
   "execution_count": 4,
   "metadata": {},
   "outputs": [
    {
     "name": "stdout",
     "output_type": "stream",
     "text": [
      "root\n",
      " |-- name: string (nullable = true)\n",
      " |-- age: string (nullable = true)\n",
      "\n",
      "+----+---+\n",
      "|name|age|\n",
      "+----+---+\n",
      "|John| 30|\n",
      "|Jane| 25|\n",
      "+----+---+\n",
      "\n"
     ]
    }
   ],
   "source": [
    "# Cast the 'age' column from IntegerType to StringType\n",
    "df_casted = df.withColumn(\"age\", col(\"age\").cast(\"string\"))\n",
    "\n",
    "df_casted.printSchema()\n",
    "df_casted.show()\n"
   ]
  },
  {
   "cell_type": "code",
   "execution_count": 5,
   "metadata": {},
   "outputs": [
    {
     "name": "stdout",
     "output_type": "stream",
     "text": [
      "+----+---+\n",
      "|name|age|\n",
      "+----+---+\n",
      "|Jane| 25|\n",
      "+----+---+\n",
      "\n"
     ]
    }
   ],
   "source": [
    "# Filter rows where the 'name' column starts with 'J'\n",
    "df_filtered = df.filter(col(\"name\").like(\"Ja%\"))\n",
    "\n",
    "df_filtered.show()\n"
   ]
  },
  {
   "cell_type": "code",
   "execution_count": 7,
   "metadata": {},
   "outputs": [
    {
     "name": "stdout",
     "output_type": "stream",
     "text": [
      "+----+---+\n",
      "|name|age|\n",
      "+----+---+\n",
      "|John| 30|\n",
      "+----+---+\n",
      "\n"
     ]
    }
   ],
   "source": [
    "df_filtered = df.filter(col(\"name\")==\"John\")\n",
    "\n",
    "df_filtered.show()"
   ]
  },
  {
   "cell_type": "code",
   "execution_count": 8,
   "metadata": {},
   "outputs": [
    {
     "name": "stdout",
     "output_type": "stream",
     "text": [
      "+----+---+\n",
      "|name|age|\n",
      "+----+---+\n",
      "|John| 30|\n",
      "+----+---+\n",
      "\n"
     ]
    }
   ],
   "source": [
    "df_where = df.where(col(\"name\")==\"John\")\n",
    "\n",
    "df_where.show()"
   ]
  },
  {
   "cell_type": "code",
   "execution_count": 9,
   "metadata": {},
   "outputs": [
    {
     "name": "stdout",
     "output_type": "stream",
     "text": [
      "+----+---+\n",
      "|name|age|\n",
      "+----+---+\n",
      "|John| 30|\n",
      "+----+---+\n",
      "\n"
     ]
    }
   ],
   "source": [
    "df_where_multiple = df.where((col(\"name\")==\"John\")&(col(\"age\")==30))\n",
    "\n",
    "df_where_multiple.show()"
   ]
  }
 ],
 "metadata": {
  "kernelspec": {
   "display_name": "pyspark_project_dev",
   "language": "python",
   "name": "python3"
  },
  "language_info": {
   "codemirror_mode": {
    "name": "ipython",
    "version": 3
   },
   "file_extension": ".py",
   "mimetype": "text/x-python",
   "name": "python",
   "nbconvert_exporter": "python",
   "pygments_lexer": "ipython3",
   "version": "3.11.0"
  }
 },
 "nbformat": 4,
 "nbformat_minor": 2
}
