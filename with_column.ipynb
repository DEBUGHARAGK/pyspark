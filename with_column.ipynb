{
 "cells": [
  {
   "cell_type": "code",
   "execution_count": 1,
   "metadata": {},
   "outputs": [],
   "source": [
    "from pyspark.sql import SparkSession\n",
    "spark = SparkSession.builder \\\n",
    "    .appName(\"with_column\") \\\n",
    "    .getOrCreate()"
   ]
  },
  {
   "cell_type": "code",
   "execution_count": 2,
   "metadata": {},
   "outputs": [],
   "source": [
    "data = [\n",
    "    {\"name\": \"John\", \"age\": 30, \"city\": \"New York\"},\n",
    "    {\"name\": \"Jane\", \"age\": 25, \"city\": \"Chicago\"},\n",
    "    {\"name\": \"Mike\", \"age\": 35, \"city\": \"San Francisco\"}\n",
    "]"
   ]
  },
  {
   "cell_type": "code",
   "execution_count": 3,
   "metadata": {},
   "outputs": [
    {
     "name": "stdout",
     "output_type": "stream",
     "text": [
      "+---+-------------+----+\n",
      "|age|         city|name|\n",
      "+---+-------------+----+\n",
      "| 30|     New York|John|\n",
      "| 25|      Chicago|Jane|\n",
      "| 35|San Francisco|Mike|\n",
      "+---+-------------+----+\n",
      "\n"
     ]
    }
   ],
   "source": [
    "df = spark.createDataFrame(data)\n",
    "df.show()"
   ]
  },
  {
   "cell_type": "markdown",
   "metadata": {},
   "source": [
    "creating new column with existing column data"
   ]
  },
  {
   "cell_type": "code",
   "execution_count": 4,
   "metadata": {},
   "outputs": [],
   "source": [
    "from pyspark.sql.functions import col,lit"
   ]
  },
  {
   "cell_type": "code",
   "execution_count": 10,
   "metadata": {},
   "outputs": [],
   "source": [
    "df = df.withColumn(\"p_age\", col(\"age\"))"
   ]
  },
  {
   "cell_type": "code",
   "execution_count": 11,
   "metadata": {},
   "outputs": [
    {
     "name": "stdout",
     "output_type": "stream",
     "text": [
      "+---+-------------+----+-----+\n",
      "|age|         city|name|p_age|\n",
      "+---+-------------+----+-----+\n",
      "| 30|     New York|John|   30|\n",
      "| 25|      Chicago|Jane|   25|\n",
      "| 35|San Francisco|Mike|   35|\n",
      "+---+-------------+----+-----+\n",
      "\n"
     ]
    }
   ],
   "source": [
    "df.show()"
   ]
  },
  {
   "cell_type": "markdown",
   "metadata": {},
   "source": [
    "column with literal value"
   ]
  },
  {
   "cell_type": "code",
   "execution_count": 13,
   "metadata": {},
   "outputs": [
    {
     "name": "stdout",
     "output_type": "stream",
     "text": [
      "+---+-------------+----+-----+-------+\n",
      "|age|         city|name|p_age|new_age|\n",
      "+---+-------------+----+-----+-------+\n",
      "| 30|     New York|John|   30|     30|\n",
      "| 25|      Chicago|Jane|   25|     30|\n",
      "| 35|San Francisco|Mike|   35|     30|\n",
      "+---+-------------+----+-----+-------+\n",
      "\n"
     ]
    }
   ],
   "source": [
    "df = df.withColumn(\"new_age\", lit(30))  # Adds a column 'age' with the value 30\n",
    "df.show()\n"
   ]
  },
  {
   "cell_type": "markdown",
   "metadata": {},
   "source": [
    "change data type"
   ]
  },
  {
   "cell_type": "code",
   "execution_count": 15,
   "metadata": {},
   "outputs": [
    {
     "name": "stdout",
     "output_type": "stream",
     "text": [
      "+---+-------------+----+-----+-------+\n",
      "|age|         city|name|p_age|new_age|\n",
      "+---+-------------+----+-----+-------+\n",
      "| 30|     New York|John|   30|     30|\n",
      "| 25|      Chicago|Jane|   25|     30|\n",
      "| 35|San Francisco|Mike|   35|     30|\n",
      "+---+-------------+----+-----+-------+\n",
      "\n"
     ]
    }
   ],
   "source": [
    "df = df.withColumn(\"age\", col(\"age\").cast(\"int\")) \n",
    "df.show()"
   ]
  },
  {
   "cell_type": "code",
   "execution_count": 16,
   "metadata": {},
   "outputs": [
    {
     "name": "stdout",
     "output_type": "stream",
     "text": [
      "root\n",
      " |-- age: integer (nullable = true)\n",
      " |-- city: string (nullable = true)\n",
      " |-- name: string (nullable = true)\n",
      " |-- p_age: long (nullable = true)\n",
      " |-- new_age: integer (nullable = false)\n",
      "\n"
     ]
    }
   ],
   "source": [
    "df.printSchema()"
   ]
  },
  {
   "cell_type": "code",
   "execution_count": 5,
   "metadata": {},
   "outputs": [
    {
     "name": "stdout",
     "output_type": "stream",
     "text": [
      "+----------+-------------+----+\n",
      "|people_age|         city|name|\n",
      "+----------+-------------+----+\n",
      "|        30|     New York|John|\n",
      "|        25|      Chicago|Jane|\n",
      "|        35|San Francisco|Mike|\n",
      "+----------+-------------+----+\n",
      "\n"
     ]
    }
   ],
   "source": [
    "df_1 = df.withColumnRenamed(\"age\",\"people_age\")\n",
    "df_1.show()"
   ]
  }
 ],
 "metadata": {
  "kernelspec": {
   "display_name": "pyspark_project_dev",
   "language": "python",
   "name": "python3"
  },
  "language_info": {
   "codemirror_mode": {
    "name": "ipython",
    "version": 3
   },
   "file_extension": ".py",
   "mimetype": "text/x-python",
   "name": "python",
   "nbconvert_exporter": "python",
   "pygments_lexer": "ipython3",
   "version": "3.11.0"
  }
 },
 "nbformat": 4,
 "nbformat_minor": 2
}
