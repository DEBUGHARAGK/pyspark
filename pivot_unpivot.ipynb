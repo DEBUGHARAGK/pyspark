{
 "cells": [
  {
   "cell_type": "code",
   "execution_count": 1,
   "metadata": {},
   "outputs": [],
   "source": [
    "from pyspark.sql import SparkSession\n",
    "spark = SparkSession.builder.appName(\"pivot\").getOrCreate()"
   ]
  },
  {
   "cell_type": "code",
   "execution_count": 2,
   "metadata": {},
   "outputs": [
    {
     "name": "stdout",
     "output_type": "stream",
     "text": [
      "+----+--------+-----+\n",
      "|name|   month|sales|\n",
      "+----+--------+-----+\n",
      "|John| January|  100|\n",
      "|John|February|  150|\n",
      "|Jane| January|  200|\n",
      "|Jane|February|  250|\n",
      "| Joe| January|  300|\n",
      "| Joe|February|  350|\n",
      "+----+--------+-----+\n",
      "\n"
     ]
    }
   ],
   "source": [
    "from pyspark.sql.functions import col\n",
    "\n",
    "# Sample Data\n",
    "data = [(\"John\", \"January\", 100),\n",
    "        (\"John\", \"February\", 150),\n",
    "        (\"Jane\", \"January\", 200),\n",
    "        (\"Jane\", \"February\", 250),\n",
    "        (\"Joe\", \"January\", 300),\n",
    "        (\"Joe\", \"February\", 350)]\n",
    "columns = [\"name\", \"month\", \"sales\"]\n",
    "\n",
    "df = spark.createDataFrame(data, columns)\n",
    "\n",
    "df.show()\n"
   ]
  },
  {
   "cell_type": "code",
   "execution_count": 3,
   "metadata": {},
   "outputs": [
    {
     "name": "stdout",
     "output_type": "stream",
     "text": [
      "+----+-----+\n",
      "|name|count|\n",
      "+----+-----+\n",
      "|John|    2|\n",
      "|Jane|    2|\n",
      "| Joe|    2|\n",
      "+----+-----+\n",
      "\n"
     ]
    }
   ],
   "source": [
    "df.groupBy('name').count().show()"
   ]
  },
  {
   "cell_type": "code",
   "execution_count": 6,
   "metadata": {},
   "outputs": [
    {
     "name": "stdout",
     "output_type": "stream",
     "text": [
      "+----+--------+-------+\n",
      "|name|February|January|\n",
      "+----+--------+-------+\n",
      "| Joe|     350|    300|\n",
      "|John|     150|    100|\n",
      "|Jane|     250|    200|\n",
      "+----+--------+-------+\n",
      "\n"
     ]
    }
   ],
   "source": [
    "df.groupBy('name').pivot('month').sum('sales').show()"
   ]
  },
  {
   "cell_type": "markdown",
   "metadata": {},
   "source": [
    "pivot for selected columns"
   ]
  },
  {
   "cell_type": "code",
   "execution_count": 7,
   "metadata": {},
   "outputs": [
    {
     "name": "stdout",
     "output_type": "stream",
     "text": [
      "+----+-------+\n",
      "|name|January|\n",
      "+----+-------+\n",
      "| Joe|    300|\n",
      "|John|    100|\n",
      "|Jane|    200|\n",
      "+----+-------+\n",
      "\n"
     ]
    }
   ],
   "source": [
    "df.groupBy('name').pivot('month',['January']).sum('sales').show()"
   ]
  },
  {
   "cell_type": "code",
   "execution_count": 8,
   "metadata": {},
   "outputs": [
    {
     "name": "stdout",
     "output_type": "stream",
     "text": [
      "+----+-------+--------+\n",
      "|name|January|February|\n",
      "+----+-------+--------+\n",
      "| Joe|    300|     350|\n",
      "|John|    100|     150|\n",
      "|Jane|    200|     250|\n",
      "+----+-------+--------+\n",
      "\n"
     ]
    }
   ],
   "source": [
    "df.groupBy('name').pivot('month',['January','February']).sum('sales').show()"
   ]
  },
  {
   "cell_type": "code",
   "execution_count": 9,
   "metadata": {},
   "outputs": [
    {
     "name": "stdout",
     "output_type": "stream",
     "text": [
      "+----+-------+--------+\n",
      "|name|January|February|\n",
      "+----+-------+--------+\n",
      "| Joe|    300|     350|\n",
      "|John|    100|     150|\n",
      "|Jane|    200|     250|\n",
      "+----+-------+--------+\n",
      "\n"
     ]
    }
   ],
   "source": [
    "pivot_df = df.groupBy('name').pivot('month',['January','February']).sum('sales')\n",
    "\n",
    "pivot_df.show()"
   ]
  },
  {
   "cell_type": "markdown",
   "metadata": {},
   "source": [
    "UNPIVOT --> this is not available so we need to use stack method"
   ]
  },
  {
   "cell_type": "code",
   "execution_count": 12,
   "metadata": {},
   "outputs": [
    {
     "name": "stdout",
     "output_type": "stream",
     "text": [
      "+----+--------+-----+\n",
      "|name|   month|sales|\n",
      "+----+--------+-----+\n",
      "| Joe| January|  300|\n",
      "| Joe|February|  350|\n",
      "|John| January|  100|\n",
      "|John|February|  150|\n",
      "|Jane| January|  200|\n",
      "|Jane|February|  250|\n",
      "+----+--------+-----+\n",
      "\n"
     ]
    }
   ],
   "source": [
    "from pyspark.sql.functions import expr\n",
    "unpivot_df = pivot_df.selectExpr(\"name\",\"stack(2,'January',January,'February',February) as (month,sales)\")\n",
    "\n",
    "unpivot_df.show()"
   ]
  }
 ],
 "metadata": {
  "kernelspec": {
   "display_name": "pyspark_project_dev",
   "language": "python",
   "name": "python3"
  },
  "language_info": {
   "codemirror_mode": {
    "name": "ipython",
    "version": 3
   },
   "file_extension": ".py",
   "mimetype": "text/x-python",
   "name": "python",
   "nbconvert_exporter": "python",
   "pygments_lexer": "ipython3",
   "version": "3.11.0"
  }
 },
 "nbformat": 4,
 "nbformat_minor": 2
}
