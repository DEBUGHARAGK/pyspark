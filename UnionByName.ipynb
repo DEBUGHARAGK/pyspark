{
 "cells": [
  {
   "cell_type": "code",
   "execution_count": 1,
   "metadata": {},
   "outputs": [],
   "source": [
    "from pyspark.sql import SparkSession\n",
    "\n",
    "# Initialize Spark session\n",
    "spark = SparkSession.builder.appName(\"UnionByNameExample\").getOrCreate()\n"
   ]
  },
  {
   "cell_type": "code",
   "execution_count": 2,
   "metadata": {},
   "outputs": [
    {
     "name": "stdout",
     "output_type": "stream",
     "text": [
      "+-------+------+----------+\n",
      "|   name|salary|department|\n",
      "+-------+------+----------+\n",
      "|  Alice|  3000|        HR|\n",
      "|    Bob|  4000|   Finance|\n",
      "|Charlie|  null|        IT|\n",
      "|  David|  null| Marketing|\n",
      "+-------+------+----------+\n",
      "\n"
     ]
    }
   ],
   "source": [
    "# Create two DataFrames with different columns\n",
    "data1 = [(\"Alice\", 3000, \"HR\"),\n",
    "         (\"Bob\", 4000, \"Finance\")]\n",
    "\n",
    "data2 = [(\"Charlie\", \"IT\"),\n",
    "         (\"David\", \"Marketing\")]\n",
    "\n",
    "# DataFrame 1 with columns: name, salary, department\n",
    "df1 = spark.createDataFrame(data1, [\"name\", \"salary\", \"department\"])\n",
    "\n",
    "# DataFrame 2 with columns: name, department (missing salary)\n",
    "df2 = spark.createDataFrame(data2, [\"name\", \"department\"])\n",
    "\n",
    "# Perform unionByName with allowMissingColumns=True\n",
    "df_union = df1.unionByName(df2, allowMissingColumns=True)\n",
    "\n",
    "# Show the result\n",
    "df_union.show()"
   ]
  }
 ],
 "metadata": {
  "kernelspec": {
   "display_name": "pyspark_project_dev",
   "language": "python",
   "name": "python3"
  },
  "language_info": {
   "codemirror_mode": {
    "name": "ipython",
    "version": 3
   },
   "file_extension": ".py",
   "mimetype": "text/x-python",
   "name": "python",
   "nbconvert_exporter": "python",
   "pygments_lexer": "ipython3",
   "version": "3.11.0"
  }
 },
 "nbformat": 4,
 "nbformat_minor": 2
}
