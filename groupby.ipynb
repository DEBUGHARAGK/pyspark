{
 "cells": [
  {
   "cell_type": "code",
   "execution_count": 1,
   "metadata": {},
   "outputs": [],
   "source": [
    "from pyspark.sql import SparkSession\n",
    "spark = SparkSession.builder.appName(\"groupBy\").getOrCreate()"
   ]
  },
  {
   "cell_type": "code",
   "execution_count": 2,
   "metadata": {},
   "outputs": [
    {
     "name": "stdout",
     "output_type": "stream",
     "text": [
      "+----------+------------+\n",
      "|department|total_salary|\n",
      "+----------+------------+\n",
      "|        HR|        6500|\n",
      "|   Finance|        8500|\n",
      "|        IT|        5000|\n",
      "+----------+------------+\n",
      "\n"
     ]
    }
   ],
   "source": [
    "\n",
    "from pyspark.sql.functions import col, count, sum, avg\n",
    "\n",
    "# Sample data\n",
    "data = [(\"Alice\", \"HR\", 3000),\n",
    "        (\"Bob\", \"Finance\", 4000),\n",
    "        (\"Alice\", \"HR\", 3500),\n",
    "        (\"Bob\", \"Finance\", 4500),\n",
    "        (\"Charlie\", \"IT\", 5000)]\n",
    "\n",
    "# Create DataFrame\n",
    "df = spark.createDataFrame(data, [\"name\", \"department\", \"salary\"])\n",
    "\n",
    "# Group by department and compute sum of salaries\n",
    "df_grouped = df.groupBy(\"department\").agg(sum(\"salary\").alias(\"total_salary\"))\n",
    "\n",
    "# Show the result\n",
    "df_grouped.show()\n"
   ]
  },
  {
   "cell_type": "code",
   "execution_count": 3,
   "metadata": {},
   "outputs": [
    {
     "name": "stdout",
     "output_type": "stream",
     "text": [
      "+-------+----------+----------+\n",
      "|   name|department|avg_salary|\n",
      "+-------+----------+----------+\n",
      "|  Alice|        HR|    3250.0|\n",
      "|    Bob|   Finance|    4250.0|\n",
      "|Charlie|        IT|    5000.0|\n",
      "+-------+----------+----------+\n",
      "\n"
     ]
    }
   ],
   "source": [
    "# Group by name and department and compute the average salary\n",
    "df_grouped = df.groupBy(\"name\", \"department\").agg(avg(\"salary\").alias(\"avg_salary\"))\n",
    "\n",
    "# Show the result\n",
    "df_grouped.show()\n"
   ]
  },
  {
   "cell_type": "code",
   "execution_count": 5,
   "metadata": {},
   "outputs": [
    {
     "name": "stdout",
     "output_type": "stream",
     "text": [
      "+-------+----------+----------+------------+--------------+--------------+----------+\n",
      "|   name|department|avg_salary|count_salary|minimum_salary|maximum_salary|sum_salary|\n",
      "+-------+----------+----------+------------+--------------+--------------+----------+\n",
      "|  Alice|        HR|    3250.0|           2|          3000|          3500|      6500|\n",
      "|    Bob|   Finance|    4250.0|           2|          4000|          4500|      8500|\n",
      "|Charlie|        IT|    5000.0|           1|          5000|          5000|      5000|\n",
      "+-------+----------+----------+------------+--------------+--------------+----------+\n",
      "\n"
     ]
    }
   ],
   "source": [
    "\n",
    "from pyspark.sql.functions import col, count, sum, avg,min,max\n",
    "df_grouped = df.groupBy(\"name\", \"department\").agg(avg(\"salary\").alias(\"avg_salary\"),\n",
    "                                                  count(\"salary\").alias(\"count_salary\"),\n",
    "                                                  min(\"salary\").alias(\"minimum_salary\"),\n",
    "                                                  max(\"salary\").alias(\"maximum_salary\"),\n",
    "                                                  sum(\"salary\").alias(\"sum_salary\"),\n",
    "                                                  )\n",
    "\n",
    "df_grouped.show()\n"
   ]
  }
 ],
 "metadata": {
  "kernelspec": {
   "display_name": "pyspark_project_dev",
   "language": "python",
   "name": "python3"
  },
  "language_info": {
   "codemirror_mode": {
    "name": "ipython",
    "version": 3
   },
   "file_extension": ".py",
   "mimetype": "text/x-python",
   "name": "python",
   "nbconvert_exporter": "python",
   "pygments_lexer": "ipython3",
   "version": "3.11.0"
  }
 },
 "nbformat": 4,
 "nbformat_minor": 2
}
