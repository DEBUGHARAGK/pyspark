{
 "cells": [
  {
   "cell_type": "code",
   "execution_count": 3,
   "metadata": {},
   "outputs": [],
   "source": [
    "from pyspark.sql import SparkSession\n",
    "spark = SparkSession.builder \\\n",
    "    .appName(\"read_write_parquet\") \\\n",
    "    .getOrCreate()"
   ]
  },
  {
   "cell_type": "code",
   "execution_count": 4,
   "metadata": {},
   "outputs": [
    {
     "name": "stdout",
     "output_type": "stream",
     "text": [
      "+---------+--------+\n",
      "|  column0| column1|\n",
      "+---------+--------+\n",
      "|    first|    last|\n",
      "|    Jorge|   Frank|\n",
      "|   Hunter|  Moreno|\n",
      "|   Esther|  Guzman|\n",
      "|   Dennis|Stephens|\n",
      "|   Nettie|Franklin|\n",
      "|  Stanley|  Gibson|\n",
      "|  Eugenia|   Greer|\n",
      "|  Jeffery| Delgado|\n",
      "|    Clara|   Cross|\n",
      "|  Bernice|    Vega|\n",
      "|    Kevin|    Diaz|\n",
      "|Henrietta|  Rivera|\n",
      "|  Matilda|   Ellis|\n",
      "|    Isaac|  Willis|\n",
      "|     Eric|    Cain|\n",
      "|   Hettie| Baldwin|\n",
      "|    Tommy| Wheeler|\n",
      "|  Theresa|   Casey|\n",
      "|     Bess| Griffin|\n",
      "+---------+--------+\n",
      "only showing top 20 rows\n",
      "\n"
     ]
    },
    {
     "data": {
      "text/plain": [
       "101"
      ]
     },
     "execution_count": 4,
     "metadata": {},
     "output_type": "execute_result"
    }
   ],
   "source": [
    "from pyspark.sql.functions import *\n",
    "from pyspark.sql.types import *\n",
    "\n",
    "df = spark.read.parquet(r'C:\\Users\\saipr\\software\\python\\workspace\\PySpark_Project\\data_files\\parquet\\sample1.parquet')\n",
    "\n",
    "df.show()\n",
    "df.count()"
   ]
  },
  {
   "cell_type": "code",
   "execution_count": 4,
   "metadata": {},
   "outputs": [],
   "source": [
    "data = [\n",
    "    {\"name\": \"John\", \"age\": 30, \"city\": \"New York\"},\n",
    "    {\"name\": \"Jane\", \"age\": 25, \"city\": \"Chicago\"},\n",
    "    {\"name\": \"Mike\", \"age\": 35, \"city\": \"San Francisco\"}\n",
    "]"
   ]
  },
  {
   "cell_type": "code",
   "execution_count": 5,
   "metadata": {},
   "outputs": [
    {
     "name": "stdout",
     "output_type": "stream",
     "text": [
      "+---+-------------+----+\n",
      "|age|         city|name|\n",
      "+---+-------------+----+\n",
      "| 30|     New York|John|\n",
      "| 25|      Chicago|Jane|\n",
      "| 35|San Francisco|Mike|\n",
      "+---+-------------+----+\n",
      "\n"
     ]
    }
   ],
   "source": [
    "from pyspark.sql.functions import *\n",
    "df = spark.createDataFrame(data)\n",
    "df.show()"
   ]
  },
  {
   "cell_type": "code",
   "execution_count": null,
   "metadata": {},
   "outputs": [],
   "source": [
    "df.write.mode(\"overwrite\").parquet(r'C:\\Users\\saipr\\software\\python\\workspace\\PySpark_Project\\data_files\\output\\test\\employees.parquet')\n"
   ]
  }
 ],
 "metadata": {
  "kernelspec": {
   "display_name": "pyspark_project_dev",
   "language": "python",
   "name": "python3"
  },
  "language_info": {
   "codemirror_mode": {
    "name": "ipython",
    "version": 3
   },
   "file_extension": ".py",
   "mimetype": "text/x-python",
   "name": "python",
   "nbconvert_exporter": "python",
   "pygments_lexer": "ipython3",
   "version": "3.11.0"
  }
 },
 "nbformat": 4,
 "nbformat_minor": 2
}
