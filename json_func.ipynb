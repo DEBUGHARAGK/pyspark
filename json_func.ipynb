{
 "cells": [
  {
   "cell_type": "code",
   "execution_count": 1,
   "metadata": {},
   "outputs": [
    {
     "name": "stdout",
     "output_type": "stream",
     "text": [
      "+-------+-----------+---+--------------------------------------------+\n",
      "|name   |city       |age|json_data                                   |\n",
      "+-------+-----------+---+--------------------------------------------+\n",
      "|Alice  |New York   |30 |{\"name\":\"Alice\",\"city\":\"New York\",\"age\":30} |\n",
      "|Bob    |Los Angeles|35 |{\"name\":\"Bob\",\"city\":\"Los Angeles\",\"age\":35}|\n",
      "|Charlie|Chicago    |25 |{\"name\":\"Charlie\",\"city\":\"Chicago\",\"age\":25}|\n",
      "+-------+-----------+---+--------------------------------------------+\n",
      "\n"
     ]
    }
   ],
   "source": [
    "from pyspark.sql import SparkSession\n",
    "from pyspark.sql.functions import to_json, struct\n",
    "from pyspark.sql.types import StructType, StructField, StringType, IntegerType\n",
    "\n",
    "# Initialize SparkSession\n",
    "spark = SparkSession.builder.appName(\"JSONFunctionsExample\").getOrCreate()\n",
    "\n",
    "# Create a DataFrame with a nested structure\n",
    "data = [\n",
    "    (\"Alice\", \"New York\", 30),\n",
    "    (\"Bob\", \"Los Angeles\", 35),\n",
    "    (\"Charlie\", \"Chicago\", 25)\n",
    "]\n",
    "schema = StructType([\n",
    "    StructField(\"name\", StringType(), True),\n",
    "    StructField(\"city\", StringType(), True),\n",
    "    StructField(\"age\", IntegerType(), True)\n",
    "])\n",
    "df = spark.createDataFrame(data, schema)\n",
    "\n",
    "# Convert the struct to a JSON string\n",
    "df_json = df.withColumn(\"json_data\", to_json(struct(\"name\", \"city\", \"age\")))\n",
    "\n",
    "df_json.show(truncate=False)\n"
   ]
  },
  {
   "cell_type": "code",
   "execution_count": 2,
   "metadata": {},
   "outputs": [
    {
     "name": "stdout",
     "output_type": "stream",
     "text": [
      "root\n",
      " |-- name: string (nullable = true)\n",
      " |-- city: string (nullable = true)\n",
      " |-- age: integer (nullable = true)\n",
      " |-- json_data: string (nullable = true)\n",
      "\n"
     ]
    }
   ],
   "source": [
    "df_json.printSchema()"
   ]
  },
  {
   "cell_type": "code",
   "execution_count": 3,
   "metadata": {},
   "outputs": [
    {
     "name": "stdout",
     "output_type": "stream",
     "text": [
      "+--------------------------------------------+-------+-----------+---+\n",
      "|json_data                                   |name   |city       |age|\n",
      "+--------------------------------------------+-------+-----------+---+\n",
      "|{\"name\":\"Alice\",\"city\":\"New York\",\"age\":30} |Alice  |New York   |30 |\n",
      "|{\"name\":\"Bob\",\"city\":\"Los Angeles\",\"age\":35}|Bob    |Los Angeles|35 |\n",
      "|{\"name\":\"Charlie\",\"city\":\"Chicago\",\"age\":25}|Charlie|Chicago    |25 |\n",
      "+--------------------------------------------+-------+-----------+---+\n",
      "\n",
      "root\n",
      " |-- name: string (nullable = true)\n",
      " |-- city: string (nullable = true)\n",
      " |-- age: integer (nullable = true)\n",
      " |-- json_data: string (nullable = true)\n",
      " |-- parsed_data: struct (nullable = true)\n",
      " |    |-- name: string (nullable = true)\n",
      " |    |-- city: string (nullable = true)\n",
      " |    |-- age: integer (nullable = true)\n",
      "\n"
     ]
    }
   ],
   "source": [
    "from pyspark.sql.functions import from_json\n",
    "\n",
    "# Define the schema of the JSON string\n",
    "json_schema = StructType([\n",
    "    StructField(\"name\", StringType(), True),\n",
    "    StructField(\"city\", StringType(), True),\n",
    "    StructField(\"age\", IntegerType(), True)\n",
    "])\n",
    "\n",
    "# Parse the JSON string column into a struct\n",
    "df_parsed = df_json.withColumn(\"parsed_data\", from_json(\"json_data\", json_schema))\n",
    "\n",
    "df_parsed.select(\"json_data\", \"parsed_data.*\").show(truncate=False)\n",
    "df_parsed.printSchema()\n"
   ]
  },
  {
   "cell_type": "code",
   "execution_count": 4,
   "metadata": {},
   "outputs": [
    {
     "name": "stdout",
     "output_type": "stream",
     "text": [
      "+--------------------------------------------+-------+-----------+\n",
      "|json_data                                   |name   |city       |\n",
      "+--------------------------------------------+-------+-----------+\n",
      "|{\"name\":\"Alice\",\"city\":\"New York\",\"age\":30} |Alice  |New York   |\n",
      "|{\"name\":\"Bob\",\"city\":\"Los Angeles\",\"age\":35}|Bob    |Los Angeles|\n",
      "|{\"name\":\"Charlie\",\"city\":\"Chicago\",\"age\":25}|Charlie|Chicago    |\n",
      "+--------------------------------------------+-------+-----------+\n",
      "\n",
      "root\n",
      " |-- json_data: string (nullable = true)\n",
      " |-- name: string (nullable = true)\n",
      " |-- city: string (nullable = true)\n",
      "\n"
     ]
    }
   ],
   "source": [
    "from pyspark.sql.functions import json_tuple\n",
    "\n",
    "# Extract 'name' and 'city' from the JSON string\n",
    "df_tuple = df_json.select(\"json_data\", json_tuple(\"json_data\", \"name\", \"city\").alias(\"name\", \"city\"))\n",
    "\n",
    "df_tuple.show(truncate=False)\n",
    "df_tuple.printSchema()"
   ]
  },
  {
   "cell_type": "code",
   "execution_count": 5,
   "metadata": {},
   "outputs": [
    {
     "name": "stdout",
     "output_type": "stream",
     "text": [
      "+-------+-----------+---+--------------------------------------------+-------------+\n",
      "|name   |city       |age|json_data                                   |age_extracted|\n",
      "+-------+-----------+---+--------------------------------------------+-------------+\n",
      "|Alice  |New York   |30 |{\"name\":\"Alice\",\"city\":\"New York\",\"age\":30} |30           |\n",
      "|Bob    |Los Angeles|35 |{\"name\":\"Bob\",\"city\":\"Los Angeles\",\"age\":35}|35           |\n",
      "|Charlie|Chicago    |25 |{\"name\":\"Charlie\",\"city\":\"Chicago\",\"age\":25}|25           |\n",
      "+-------+-----------+---+--------------------------------------------+-------------+\n",
      "\n",
      "root\n",
      " |-- json_data: string (nullable = true)\n",
      " |-- name: string (nullable = true)\n",
      " |-- city: string (nullable = true)\n",
      "\n"
     ]
    }
   ],
   "source": [
    "from pyspark.sql.functions import get_json_object\n",
    "\n",
    "# Extract the 'age' from the JSON string\n",
    "df_get_json = df_json.withColumn(\"age_extracted\", get_json_object(\"json_data\", \"$.age\"))\n",
    "\n",
    "df_get_json.show(truncate=False)\n",
    "df_tuple.printSchema()\n"
   ]
  }
 ],
 "metadata": {
  "kernelspec": {
   "display_name": "pyspark_project_dev",
   "language": "python",
   "name": "python3"
  },
  "language_info": {
   "codemirror_mode": {
    "name": "ipython",
    "version": 3
   },
   "file_extension": ".py",
   "mimetype": "text/x-python",
   "name": "python",
   "nbconvert_exporter": "python",
   "pygments_lexer": "ipython3",
   "version": "3.11.0"
  }
 },
 "nbformat": 4,
 "nbformat_minor": 2
}
