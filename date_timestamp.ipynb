{
 "cells": [
  {
   "cell_type": "code",
   "execution_count": 1,
   "metadata": {},
   "outputs": [],
   "source": [
    "from pyspark.sql import SparkSession\n",
    "spark = SparkSession.builder.appName(\"date_timestamp\").getOrCreate()"
   ]
  },
  {
   "cell_type": "code",
   "execution_count": 3,
   "metadata": {},
   "outputs": [
    {
     "name": "stdout",
     "output_type": "stream",
     "text": [
      "+-----+----------+----------+-------------------+\n",
      "|name |birthdate |joindate  |last_login         |\n",
      "+-----+----------+----------+-------------------+\n",
      "|Alice|1985-05-15|2010-06-20|2024-08-12 14:30:00|\n",
      "|Bob  |1990-08-25|2015-07-30|2024-08-13 10:15:00|\n",
      "|Carol|1978-12-01|2005-03-18|2024-08-10 18:45:00|\n",
      "+-----+----------+----------+-------------------+\n",
      "\n",
      "root\n",
      " |-- name: string (nullable = true)\n",
      " |-- birthdate: string (nullable = true)\n",
      " |-- joindate: string (nullable = true)\n",
      " |-- last_login: string (nullable = true)\n",
      "\n"
     ]
    }
   ],
   "source": [
    "from pyspark.sql.types import StructType, StructField, StringType, DateType, TimestampType\n",
    "from pyspark.sql.functions import to_date, to_timestamp\n",
    "\n",
    "# Define the schema with StringType for date and timestamp columns\n",
    "schema = StructType([\n",
    "    StructField(\"name\", StringType(), True),\n",
    "    StructField(\"birthdate\", StringType(), True),\n",
    "    StructField(\"joindate\", StringType(), True),\n",
    "    StructField(\"last_login\", StringType(), True)\n",
    "])\n",
    "\n",
    "# Sample data\n",
    "data = [\n",
    "    (\"Alice\", \"1985-05-15\", \"2010-06-20\", \"2024-08-12 14:30:00\"),\n",
    "    (\"Bob\", \"1990-08-25\", \"2015-07-30\", \"2024-08-13 10:15:00\"),\n",
    "    (\"Carol\", \"1978-12-01\", \"2005-03-18\", \"2024-08-10 18:45:00\")\n",
    "]\n",
    "\n",
    "# Create DataFrame with StringType schema\n",
    "df = spark.createDataFrame(data, schema)\n",
    "\n",
    "# Show the DataFrame\n",
    "df.show(truncate=False)\n",
    "\n",
    "# Print the schema\n",
    "df.printSchema()\n"
   ]
  },
  {
   "cell_type": "code",
   "execution_count": 4,
   "metadata": {},
   "outputs": [
    {
     "name": "stdout",
     "output_type": "stream",
     "text": [
      "+-----+----------+----------+-------------------+\n",
      "|name |birthdate |joindate  |last_login         |\n",
      "+-----+----------+----------+-------------------+\n",
      "|Alice|1985-05-15|2010-06-20|2024-08-12 14:30:00|\n",
      "|Bob  |1990-08-25|2015-07-30|2024-08-13 10:15:00|\n",
      "|Carol|1978-12-01|2005-03-18|2024-08-10 18:45:00|\n",
      "+-----+----------+----------+-------------------+\n",
      "\n",
      "root\n",
      " |-- name: string (nullable = true)\n",
      " |-- birthdate: date (nullable = true)\n",
      " |-- joindate: date (nullable = true)\n",
      " |-- last_login: timestamp (nullable = true)\n",
      "\n"
     ]
    }
   ],
   "source": [
    "# Convert the columns to the correct types\n",
    "df = df.withColumn(\"birthdate\", to_date(\"birthdate\", \"yyyy-MM-dd\")) \\\n",
    "       .withColumn(\"joindate\", to_date(\"joindate\", \"yyyy-MM-dd\")) \\\n",
    "       .withColumn(\"last_login\", to_timestamp(\"last_login\", \"yyyy-MM-dd HH:mm:ss\"))\n",
    "\n",
    "# Show the DataFrame\n",
    "df.show(truncate=False)\n",
    "\n",
    "# Print the schema\n",
    "df.printSchema()"
   ]
  },
  {
   "cell_type": "code",
   "execution_count": 6,
   "metadata": {},
   "outputs": [
    {
     "name": "stdout",
     "output_type": "stream",
     "text": [
      "+-----+----------+----------+-------------------+------------+-----------------------+\n",
      "|name |birthdate |joindate  |last_login         |current_date|current_timestamp      |\n",
      "+-----+----------+----------+-------------------+------------+-----------------------+\n",
      "|Alice|1985-05-15|2010-06-20|2024-08-12 14:30:00|2024-08-13  |2024-08-13 17:52:00.988|\n",
      "|Bob  |1990-08-25|2015-07-30|2024-08-13 10:15:00|2024-08-13  |2024-08-13 17:52:00.988|\n",
      "|Carol|1978-12-01|2005-03-18|2024-08-10 18:45:00|2024-08-13  |2024-08-13 17:52:00.988|\n",
      "+-----+----------+----------+-------------------+------------+-----------------------+\n",
      "\n",
      "root\n",
      " |-- name: string (nullable = true)\n",
      " |-- birthdate: date (nullable = true)\n",
      " |-- joindate: date (nullable = true)\n",
      " |-- last_login: timestamp (nullable = true)\n",
      " |-- current_date: date (nullable = false)\n",
      " |-- current_timestamp: timestamp (nullable = false)\n",
      "\n"
     ]
    }
   ],
   "source": [
    "from pyspark.sql.functions import current_date,current_timestamp\n",
    "\n",
    "# Current date and time\n",
    "df = df.withColumn(\"current_date\", current_date()) \\\n",
    "       .withColumn(\"current_timestamp\", current_timestamp())\n",
    "\n",
    "# Show the DataFrame\n",
    "df.show(truncate=False)\n",
    "\n",
    "# Print the schema\n",
    "df.printSchema()"
   ]
  },
  {
   "cell_type": "code",
   "execution_count": 12,
   "metadata": {},
   "outputs": [
    {
     "name": "stdout",
     "output_type": "stream",
     "text": [
      "+-----+----------+----------+-------------------+------------+-----------------------+\n",
      "|name |birthdate |joindate  |last_login         |current_date|current_timestamp      |\n",
      "+-----+----------+----------+-------------------+------------+-----------------------+\n",
      "|Alice|1985-05-15|2010-06-20|2024-08-12 14:30:00|2024-08-13  |2024-08-13 17:55:58.594|\n",
      "|Bob  |1990-08-25|2015-07-30|2024-08-13 10:15:00|2024-08-13  |2024-08-13 17:55:58.594|\n",
      "|Carol|1978-12-01|2005-03-18|2024-08-10 18:45:00|2024-08-13  |2024-08-13 17:55:58.594|\n",
      "+-----+----------+----------+-------------------+------------+-----------------------+\n",
      "\n",
      "+-----+----------+----------+-------------------+------------+---------------------+----------------+-----------------+------------------+------------------+---------------------+\n",
      "|name |birthdate |joindate  |last_login         |current_date|current_timestamp    |date_plus_5_days|date_minus_5_days|days_since_joining|months_since_birth|joining_plus_2_months|\n",
      "+-----+----------+----------+-------------------+------------+---------------------+----------------+-----------------+------------------+------------------+---------------------+\n",
      "|Alice|1985-05-15|2010-06-20|2024-08-12 14:30:00|2024-08-13  |2024-08-13 17:56:10.4|2010-06-25      |2010-06-15       |5168              |470.93548387      |2010-08-20           |\n",
      "|Bob  |1990-08-25|2015-07-30|2024-08-13 10:15:00|2024-08-13  |2024-08-13 17:56:10.4|2015-08-04      |2015-07-25       |3302              |407.61290323      |2015-09-30           |\n",
      "|Carol|1978-12-01|2005-03-18|2024-08-10 18:45:00|2024-08-13  |2024-08-13 17:56:10.4|2005-03-23      |2005-03-13       |7088              |548.38709677      |2005-05-18           |\n",
      "+-----+----------+----------+-------------------+------------+---------------------+----------------+-----------------+------------------+------------------+---------------------+\n",
      "\n",
      "root\n",
      " |-- name: string (nullable = true)\n",
      " |-- birthdate: date (nullable = true)\n",
      " |-- joindate: date (nullable = true)\n",
      " |-- last_login: timestamp (nullable = true)\n",
      " |-- current_date: date (nullable = false)\n",
      " |-- current_timestamp: timestamp (nullable = false)\n",
      " |-- date_plus_5_days: date (nullable = true)\n",
      " |-- date_minus_5_days: date (nullable = true)\n",
      " |-- days_since_joining: integer (nullable = true)\n",
      " |-- months_since_birth: double (nullable = true)\n",
      " |-- joining_plus_2_months: date (nullable = true)\n",
      "\n"
     ]
    }
   ],
   "source": [
    "from pyspark.sql.functions import date_add,date_sub,datediff,months_between,add_months,current_date,current_timestamp\n",
    "\n",
    "df.show(truncate=False)\n",
    "\n",
    "# Date arithmetic\n",
    "df = df.withColumn(\"date_plus_5_days\", date_add(\"joindate\", 5)) \\\n",
    "       .withColumn(\"date_minus_5_days\", date_sub(\"joindate\", 5)) \\\n",
    "       .withColumn(\"days_since_joining\", datediff(current_date(), \"joindate\")) \\\n",
    "       .withColumn(\"months_since_birth\", months_between(current_date(), \"birthdate\")) \\\n",
    "       .withColumn(\"joining_plus_2_months\", add_months(\"joindate\", 2))\n",
    "\n",
    "# Show the DataFrame\n",
    "df.show(truncate=False)\n",
    "\n",
    "# Print the schema\n",
    "df.printSchema()\n"
   ]
  },
  {
   "cell_type": "code",
   "execution_count": 14,
   "metadata": {},
   "outputs": [
    {
     "name": "stdout",
     "output_type": "stream",
     "text": [
      "+-----+----------+----------+-------------------+------------+-----------------------+----------------+-----------------+------------------+------------------+---------------------+--------------+-------------------+\n",
      "|name |birthdate |joindate  |last_login         |current_date|current_timestamp      |date_plus_5_days|date_minus_5_days|days_since_joining|months_since_birth|joining_plus_2_months|unix_timestamp|converted_timestamp|\n",
      "+-----+----------+----------+-------------------+------------+-----------------------+----------------+-----------------+------------------+------------------+---------------------+--------------+-------------------+\n",
      "|Alice|1985-05-15|2010-06-20|2024-08-12 14:30:00|2024-08-13  |2024-08-13 17:58:01.651|2010-06-25      |2010-06-15       |5168              |470.93548387      |2010-08-20           |1723453200    |2024-08-12 14:30:00|\n",
      "|Bob  |1990-08-25|2015-07-30|2024-08-13 10:15:00|2024-08-13  |2024-08-13 17:58:01.651|2015-08-04      |2015-07-25       |3302              |407.61290323      |2015-09-30           |1723524300    |2024-08-13 10:15:00|\n",
      "|Carol|1978-12-01|2005-03-18|2024-08-10 18:45:00|2024-08-13  |2024-08-13 17:58:01.651|2005-03-23      |2005-03-13       |7088              |548.38709677      |2005-05-18           |1723295700    |2024-08-10 18:45:00|\n",
      "+-----+----------+----------+-------------------+------------+-----------------------+----------------+-----------------+------------------+------------------+---------------------+--------------+-------------------+\n",
      "\n",
      "root\n",
      " |-- name: string (nullable = true)\n",
      " |-- birthdate: date (nullable = true)\n",
      " |-- joindate: date (nullable = true)\n",
      " |-- last_login: timestamp (nullable = true)\n",
      " |-- current_date: date (nullable = false)\n",
      " |-- current_timestamp: timestamp (nullable = false)\n",
      " |-- date_plus_5_days: date (nullable = true)\n",
      " |-- date_minus_5_days: date (nullable = true)\n",
      " |-- days_since_joining: integer (nullable = true)\n",
      " |-- months_since_birth: double (nullable = true)\n",
      " |-- joining_plus_2_months: date (nullable = true)\n",
      " |-- unix_timestamp: long (nullable = true)\n",
      " |-- converted_timestamp: string (nullable = true)\n",
      "\n"
     ]
    }
   ],
   "source": [
    "from pyspark.sql.functions import unix_timestamp,from_unixtime\n",
    "\n",
    "# Convert UNIX timestamp to date\n",
    "df = df.withColumn(\"unix_timestamp\", unix_timestamp(\"last_login\")) \\\n",
    "       .withColumn(\"converted_timestamp\", from_unixtime(\"unix_timestamp\", \"yyyy-MM-dd HH:mm:ss\"))\n",
    "\n",
    "# Show the DataFrame\n",
    "df.show(truncate=False)\n",
    "\n",
    "# Print the schema\n",
    "df.printSchema()\n"
   ]
  },
  {
   "cell_type": "code",
   "execution_count": 15,
   "metadata": {},
   "outputs": [
    {
     "name": "stdout",
     "output_type": "stream",
     "text": [
      "+-----+----------+----------+-------------------+------------+-----------------------+----------------+-----------------+------------------+------------------+---------------------+--------------+-------------------+-------------+--------------+------------+-----------------+-------------+---------------+---------------+\n",
      "|name |birthdate |joindate  |last_login         |current_date|current_timestamp      |date_plus_5_days|date_minus_5_days|days_since_joining|months_since_birth|joining_plus_2_months|unix_timestamp|converted_timestamp|year_of_birth|month_of_birth|day_of_birth|day_of_week_login|hour_of_login|minute_of_login|second_of_login|\n",
      "+-----+----------+----------+-------------------+------------+-----------------------+----------------+-----------------+------------------+------------------+---------------------+--------------+-------------------+-------------+--------------+------------+-----------------+-------------+---------------+---------------+\n",
      "|Alice|1985-05-15|2010-06-20|2024-08-12 14:30:00|2024-08-13  |2024-08-13 18:00:08.277|2010-06-25      |2010-06-15       |5168              |470.93548387      |2010-08-20           |1723453200    |2024-08-12 14:30:00|1985         |5             |15          |2                |14           |30             |0              |\n",
      "|Bob  |1990-08-25|2015-07-30|2024-08-13 10:15:00|2024-08-13  |2024-08-13 18:00:08.277|2015-08-04      |2015-07-25       |3302              |407.61290323      |2015-09-30           |1723524300    |2024-08-13 10:15:00|1990         |8             |25          |3                |10           |15             |0              |\n",
      "|Carol|1978-12-01|2005-03-18|2024-08-10 18:45:00|2024-08-13  |2024-08-13 18:00:08.277|2005-03-23      |2005-03-13       |7088              |548.38709677      |2005-05-18           |1723295700    |2024-08-10 18:45:00|1978         |12            |1           |7                |18           |45             |0              |\n",
      "+-----+----------+----------+-------------------+------------+-----------------------+----------------+-----------------+------------------+------------------+---------------------+--------------+-------------------+-------------+--------------+------------+-----------------+-------------+---------------+---------------+\n",
      "\n",
      "root\n",
      " |-- name: string (nullable = true)\n",
      " |-- birthdate: date (nullable = true)\n",
      " |-- joindate: date (nullable = true)\n",
      " |-- last_login: timestamp (nullable = true)\n",
      " |-- current_date: date (nullable = false)\n",
      " |-- current_timestamp: timestamp (nullable = false)\n",
      " |-- date_plus_5_days: date (nullable = true)\n",
      " |-- date_minus_5_days: date (nullable = true)\n",
      " |-- days_since_joining: integer (nullable = true)\n",
      " |-- months_since_birth: double (nullable = true)\n",
      " |-- joining_plus_2_months: date (nullable = true)\n",
      " |-- unix_timestamp: long (nullable = true)\n",
      " |-- converted_timestamp: string (nullable = true)\n",
      " |-- year_of_birth: integer (nullable = true)\n",
      " |-- month_of_birth: integer (nullable = true)\n",
      " |-- day_of_birth: integer (nullable = true)\n",
      " |-- day_of_week_login: integer (nullable = true)\n",
      " |-- hour_of_login: integer (nullable = true)\n",
      " |-- minute_of_login: integer (nullable = true)\n",
      " |-- second_of_login: integer (nullable = true)\n",
      "\n"
     ]
    }
   ],
   "source": [
    "from pyspark.sql.functions import *\n",
    "\n",
    "# Date extraction\n",
    "df = df.withColumn(\"year_of_birth\", year(\"birthdate\")) \\\n",
    "       .withColumn(\"month_of_birth\", month(\"birthdate\")) \\\n",
    "       .withColumn(\"day_of_birth\", dayofmonth(\"birthdate\")) \\\n",
    "       .withColumn(\"day_of_week_login\", dayofweek(\"last_login\")) \\\n",
    "       .withColumn(\"hour_of_login\", hour(\"last_login\")) \\\n",
    "       .withColumn(\"minute_of_login\", minute(\"last_login\")) \\\n",
    "       .withColumn(\"second_of_login\", second(\"last_login\"))\n",
    "\n",
    "# Show the DataFrame\n",
    "df.show(truncate=False)\n",
    "\n",
    "# Print the schema\n",
    "df.printSchema()"
   ]
  },
  {
   "cell_type": "code",
   "execution_count": 16,
   "metadata": {},
   "outputs": [
    {
     "name": "stdout",
     "output_type": "stream",
     "text": [
      "+-----+----------+----------+-------------------+------------+-----------------------+----------------+-----------------+------------------+------------------+---------------------+--------------+-------------------+-------------+--------------+------------+-----------------+-------------+---------------+---------------+-----------------------+-------------------+------------------+-------------------+-------------------------+\n",
      "|name |birthdate |joindate  |last_login         |current_date|current_timestamp      |date_plus_5_days|date_minus_5_days|days_since_joining|months_since_birth|joining_plus_2_months|unix_timestamp|converted_timestamp|year_of_birth|month_of_birth|day_of_birth|day_of_week_login|hour_of_login|minute_of_login|second_of_login|formatted_date_of_birth|formatted_login    |truncated_to_month|truncated_to_hour  |next_monday_after_joining|\n",
      "+-----+----------+----------+-------------------+------------+-----------------------+----------------+-----------------+------------------+------------------+---------------------+--------------+-------------------+-------------+--------------+------------+-----------------+-------------+---------------+---------------+-----------------------+-------------------+------------------+-------------------+-------------------------+\n",
      "|Alice|1985-05-15|2010-06-20|2024-08-12 14:30:00|2024-08-13  |2024-08-13 18:03:23.132|2010-06-25      |2010-06-15       |5168              |470.93548387      |2010-08-20           |1723453200    |2024-08-12 14:30:00|1985         |5             |15          |2                |14           |30             |0              |15-05-1985             |08/12/2024 14:30:00|2010-06-01        |2024-08-12 14:00:00|2010-06-21               |\n",
      "|Bob  |1990-08-25|2015-07-30|2024-08-13 10:15:00|2024-08-13  |2024-08-13 18:03:23.132|2015-08-04      |2015-07-25       |3302              |407.61290323      |2015-09-30           |1723524300    |2024-08-13 10:15:00|1990         |8             |25          |3                |10           |15             |0              |25-08-1990             |08/13/2024 10:15:00|2015-07-01        |2024-08-13 10:00:00|2015-08-03               |\n",
      "|Carol|1978-12-01|2005-03-18|2024-08-10 18:45:00|2024-08-13  |2024-08-13 18:03:23.132|2005-03-23      |2005-03-13       |7088              |548.38709677      |2005-05-18           |1723295700    |2024-08-10 18:45:00|1978         |12            |1           |7                |18           |45             |0              |01-12-1978             |08/10/2024 18:45:00|2005-03-01        |2024-08-10 18:00:00|2005-03-21               |\n",
      "+-----+----------+----------+-------------------+------------+-----------------------+----------------+-----------------+------------------+------------------+---------------------+--------------+-------------------+-------------+--------------+------------+-----------------+-------------+---------------+---------------+-----------------------+-------------------+------------------+-------------------+-------------------------+\n",
      "\n",
      "root\n",
      " |-- name: string (nullable = true)\n",
      " |-- birthdate: date (nullable = true)\n",
      " |-- joindate: date (nullable = true)\n",
      " |-- last_login: timestamp (nullable = true)\n",
      " |-- current_date: date (nullable = false)\n",
      " |-- current_timestamp: timestamp (nullable = false)\n",
      " |-- date_plus_5_days: date (nullable = true)\n",
      " |-- date_minus_5_days: date (nullable = true)\n",
      " |-- days_since_joining: integer (nullable = true)\n",
      " |-- months_since_birth: double (nullable = true)\n",
      " |-- joining_plus_2_months: date (nullable = true)\n",
      " |-- unix_timestamp: long (nullable = true)\n",
      " |-- converted_timestamp: string (nullable = true)\n",
      " |-- year_of_birth: integer (nullable = true)\n",
      " |-- month_of_birth: integer (nullable = true)\n",
      " |-- day_of_birth: integer (nullable = true)\n",
      " |-- day_of_week_login: integer (nullable = true)\n",
      " |-- hour_of_login: integer (nullable = true)\n",
      " |-- minute_of_login: integer (nullable = true)\n",
      " |-- second_of_login: integer (nullable = true)\n",
      " |-- formatted_date_of_birth: string (nullable = true)\n",
      " |-- formatted_login: string (nullable = true)\n",
      " |-- truncated_to_month: date (nullable = true)\n",
      " |-- truncated_to_hour: timestamp (nullable = true)\n",
      " |-- next_monday_after_joining: date (nullable = true)\n",
      "\n"
     ]
    }
   ],
   "source": [
    "# Formatting date and time\n",
    "df = df.withColumn(\"formatted_date_of_birth\", date_format(\"birthdate\", \"dd-MM-yyyy\")) \\\n",
    "       .withColumn(\"formatted_login\", date_format(\"last_login\", \"MM/dd/yyyy HH:mm:ss\"))\n",
    "\n",
    "# Truncating dates\n",
    "df = df.withColumn(\"truncated_to_month\", trunc(\"joindate\", \"month\")) \\\n",
    "       .withColumn(\"truncated_to_hour\", date_trunc(\"hour\", \"last_login\"))\n",
    "\n",
    "# Other date functions\n",
    "df = df.withColumn(\"next_monday_after_joining\", next_day(\"joindate\", \"Mon\"))\n",
    "\n",
    "# Show the DataFrame\n",
    "df.show(truncate=False)\n",
    "\n",
    "# Print the schema\n",
    "df.printSchema()\n"
   ]
  }
 ],
 "metadata": {
  "kernelspec": {
   "display_name": "pyspark_project_dev",
   "language": "python",
   "name": "python3"
  },
  "language_info": {
   "codemirror_mode": {
    "name": "ipython",
    "version": 3
   },
   "file_extension": ".py",
   "mimetype": "text/x-python",
   "name": "python",
   "nbconvert_exporter": "python",
   "pygments_lexer": "ipython3",
   "version": "3.11.0"
  }
 },
 "nbformat": 4,
 "nbformat_minor": 2
}
