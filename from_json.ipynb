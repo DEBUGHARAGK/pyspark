{
 "cells": [
  {
   "cell_type": "code",
   "execution_count": 7,
   "metadata": {},
   "outputs": [
    {
     "name": "stdout",
     "output_type": "stream",
     "text": [
      "+-----+---+\n",
      "| name|age|\n",
      "+-----+---+\n",
      "|Alice| 30|\n",
      "+-----+---+\n",
      "\n"
     ]
    }
   ],
   "source": [
    "from pyspark.sql import SparkSession\n",
    "from pyspark.sql.functions import from_json, col\n",
    "from pyspark.sql.types import StructType, StructField, StringType, IntegerType\n",
    "\n",
    "# Initialize Spark session\n",
    "spark = SparkSession.builder.appName(\"FromJson Example\").getOrCreate()\n",
    "\n",
    "# Sample JSON string\n",
    "json_string = '{\"name\": \"Alice\", \"age\": 30}'\n",
    "\n",
    "# Create a DataFrame with the JSON string\n",
    "json_df = spark.createDataFrame([(json_string,)], [\"json_column\"])\n",
    "\n",
    "# Define the schema\n",
    "schema = StructType([\n",
    "    StructField(\"name\", StringType(), True),\n",
    "    StructField(\"age\", IntegerType(), True)\n",
    "])\n",
    "\n",
    "# Convert JSON string to StructType\n",
    "df = json_df.withColumn(\"data\", from_json(col(\"json_column\"), schema))\n",
    "\n",
    "# Select the fields from the StructType\n",
    "result_df = df.select(\"data.*\")\n",
    "\n",
    "result_df.show()\n"
   ]
  },
  {
   "cell_type": "markdown",
   "metadata": {},
   "source": [
    "mapType"
   ]
  },
  {
   "cell_type": "code",
   "execution_count": 8,
   "metadata": {},
   "outputs": [
    {
     "name": "stdout",
     "output_type": "stream",
     "text": [
      "+------------------------------------+--------------------------------+\n",
      "|json_column                         |data                            |\n",
      "+------------------------------------+--------------------------------+\n",
      "|{\"key1\": \"value1\", \"key2\": \"value2\"}|{key1 -> value1, key2 -> value2}|\n",
      "+------------------------------------+--------------------------------+\n",
      "\n"
     ]
    }
   ],
   "source": [
    "from pyspark.sql import SparkSession\n",
    "from pyspark.sql.functions import from_json, col\n",
    "from pyspark.sql.types import MapType, StringType\n",
    "\n",
    "# Initialize Spark session\n",
    "spark = SparkSession.builder.appName(\"FromJson Example\").getOrCreate()\n",
    "\n",
    "# Sample JSON string\n",
    "json_string = '{\"key1\": \"value1\", \"key2\": \"value2\"}'\n",
    "\n",
    "# Create a DataFrame with the JSON string\n",
    "json_df = spark.createDataFrame([(json_string,)], [\"json_column\"])\n",
    "\n",
    "# Define the schema as MapType\n",
    "schema = MapType(StringType(), StringType())\n",
    "\n",
    "# Convert JSON string to MapType\n",
    "df = json_df.withColumn(\"data\", from_json(col(\"json_column\"), schema))\n",
    "\n",
    "df.show(truncate=False)\n"
   ]
  },
  {
   "cell_type": "code",
   "execution_count": 9,
   "metadata": {},
   "outputs": [
    {
     "name": "stdout",
     "output_type": "stream",
     "text": [
      "+--------------------+--------------------+------+------+\n",
      "|         json_column|                data|  key1|  key2|\n",
      "+--------------------+--------------------+------+------+\n",
      "|{\"key1\": \"value1\"...|{key1 -> value1, ...|value1|value2|\n",
      "+--------------------+--------------------+------+------+\n",
      "\n"
     ]
    }
   ],
   "source": [
    "df_output = df.withColumn('key1',df.data.key1)\\\n",
    "               .withColumn('key2',df.data.key2)\n",
    "\n",
    "df_output.show()"
   ]
  }
 ],
 "metadata": {
  "kernelspec": {
   "display_name": "pyspark_project_dev",
   "language": "python",
   "name": "python3"
  },
  "language_info": {
   "codemirror_mode": {
    "name": "ipython",
    "version": 3
   },
   "file_extension": ".py",
   "mimetype": "text/x-python",
   "name": "python",
   "nbconvert_exporter": "python",
   "pygments_lexer": "ipython3",
   "version": "3.11.0"
  }
 },
 "nbformat": 4,
 "nbformat_minor": 2
}
