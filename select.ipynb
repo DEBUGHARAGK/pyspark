{
 "cells": [
  {
   "cell_type": "code",
   "execution_count": 1,
   "metadata": {},
   "outputs": [],
   "source": [
    "from pyspark.sql import SparkSession\n",
    "spark = SparkSession.builder.appName(\"select\").getOrCreate()"
   ]
  },
  {
   "cell_type": "code",
   "execution_count": 3,
   "metadata": {},
   "outputs": [
    {
     "name": "stdout",
     "output_type": "stream",
     "text": [
      "+-----+------+----------+\n",
      "| name|salary|department|\n",
      "+-----+------+----------+\n",
      "|Alice|  3000|        HR|\n",
      "|  Bob|  4000|   Finance|\n",
      "+-----+------+----------+\n",
      "\n"
     ]
    }
   ],
   "source": [
    "data = [(\"Alice\", 3000, \"HR\"),\n",
    "         (\"Bob\", 4000, \"Finance\")]\n",
    "schema = [\"name\", \"salary\", \"department\"]\n",
    "\n",
    "df = spark.createDataFrame(data,schema)\n",
    "df.show()"
   ]
  },
  {
   "cell_type": "code",
   "execution_count": 4,
   "metadata": {},
   "outputs": [
    {
     "name": "stdout",
     "output_type": "stream",
     "text": [
      "+-----+------+\n",
      "| name|salary|\n",
      "+-----+------+\n",
      "|Alice|  3000|\n",
      "|  Bob|  4000|\n",
      "+-----+------+\n",
      "\n",
      "+-----+----------+\n",
      "| name|department|\n",
      "+-----+----------+\n",
      "|Alice|        HR|\n",
      "|  Bob|   Finance|\n",
      "+-----+----------+\n",
      "\n",
      "+-----+----------+\n",
      "| name|department|\n",
      "+-----+----------+\n",
      "|Alice|        HR|\n",
      "|  Bob|   Finance|\n",
      "+-----+----------+\n",
      "\n",
      "+-----+------+\n",
      "| name|salary|\n",
      "+-----+------+\n",
      "|Alice|  3000|\n",
      "|  Bob|  4000|\n",
      "+-----+------+\n",
      "\n"
     ]
    }
   ],
   "source": [
    "df.select('name','salary').show()\n",
    "\n",
    "df.select(df.name,df.department).show()\n",
    "\n",
    "df.select(df['name'],df['department']).show()\n",
    "\n",
    "from pyspark.sql.functions import col\n",
    "\n",
    "df.select(col('name'),col('salary')).show()"
   ]
  },
  {
   "cell_type": "code",
   "execution_count": 5,
   "metadata": {},
   "outputs": [
    {
     "name": "stdout",
     "output_type": "stream",
     "text": [
      "+-----+------+----------+\n",
      "| name|salary|department|\n",
      "+-----+------+----------+\n",
      "|Alice|  3000|        HR|\n",
      "|  Bob|  4000|   Finance|\n",
      "+-----+------+----------+\n",
      "\n"
     ]
    }
   ],
   "source": [
    "df.select([col for col in df.columns]).show()"
   ]
  },
  {
   "cell_type": "code",
   "execution_count": 6,
   "metadata": {},
   "outputs": [
    {
     "name": "stdout",
     "output_type": "stream",
     "text": [
      "+-----+------+----------+\n",
      "| name|salary|department|\n",
      "+-----+------+----------+\n",
      "|Alice|  3000|        HR|\n",
      "|  Bob|  4000|   Finance|\n",
      "+-----+------+----------+\n",
      "\n"
     ]
    }
   ],
   "source": [
    "df.select('*').show()"
   ]
  }
 ],
 "metadata": {
  "kernelspec": {
   "display_name": "pyspark_project_dev",
   "language": "python",
   "name": "python3"
  },
  "language_info": {
   "codemirror_mode": {
    "name": "ipython",
    "version": 3
   },
   "file_extension": ".py",
   "mimetype": "text/x-python",
   "name": "python",
   "nbconvert_exporter": "python",
   "pygments_lexer": "ipython3",
   "version": "3.11.0"
  }
 },
 "nbformat": 4,
 "nbformat_minor": 2
}
