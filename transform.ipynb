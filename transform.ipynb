{
 "cells": [
  {
   "cell_type": "markdown",
   "metadata": {},
   "source": [
    "Transform in dataframe"
   ]
  },
  {
   "cell_type": "code",
   "execution_count": 1,
   "metadata": {},
   "outputs": [],
   "source": [
    "from pyspark.sql import SparkSession\n",
    "spark = SparkSession.builder.appName(\"transform\").getOrCreate()"
   ]
  },
  {
   "cell_type": "code",
   "execution_count": 2,
   "metadata": {},
   "outputs": [
    {
     "name": "stdout",
     "output_type": "stream",
     "text": [
      "+-------+------+----------+\n",
      "|   name|salary|department|\n",
      "+-------+------+----------+\n",
      "|  Alice|  3000|        HR|\n",
      "|    Bob|  4000|   Finance|\n",
      "|Charlie|  5000|        IT|\n",
      "+-------+------+----------+\n",
      "\n"
     ]
    }
   ],
   "source": [
    "# Sample data for DataFrame 1\n",
    "data1 = [(\"Alice\", 3000, \"HR\"),\n",
    "         (\"Bob\", 4000, \"Finance\"),\n",
    "         (\"Charlie\", 5000, \"IT\")]\n",
    "\n",
    "# Creating DataFrames\n",
    "df = spark.createDataFrame(data1, [\"name\", \"salary\", \"department\"])\n",
    "\n",
    "df.show()"
   ]
  },
  {
   "cell_type": "code",
   "execution_count": 5,
   "metadata": {},
   "outputs": [
    {
     "name": "stdout",
     "output_type": "stream",
     "text": [
      "+-------+------+----------+\n",
      "|   name|salary|department|\n",
      "+-------+------+----------+\n",
      "|  ALICE|  6000|        HR|\n",
      "|    BOB|  8000|   Finance|\n",
      "|CHARLIE| 10000|        IT|\n",
      "+-------+------+----------+\n",
      "\n"
     ]
    }
   ],
   "source": [
    "from pyspark.sql.functions import upper\n",
    "\n",
    "def convert_upper(df):\n",
    "    return df.withColumn('name',upper(df.name))\n",
    "\n",
    "def double_salary(df):\n",
    "    return df.withColumn('salary',df.salary*2)\n",
    "\n",
    "df_transform = df.transform(convert_upper)\\\n",
    "                .transform(double_salary)\n",
    "\n",
    "df_transform.show()\n",
    "\n"
   ]
  },
  {
   "cell_type": "markdown",
   "metadata": {},
   "source": [
    "TRANFORMATION IN SQL FUNCTIONS only applies to arrays"
   ]
  },
  {
   "cell_type": "code",
   "execution_count": 6,
   "metadata": {},
   "outputs": [
    {
     "name": "stdout",
     "output_type": "stream",
     "text": [
      "+----+---------+\n",
      "|name|  numbers|\n",
      "+----+---------+\n",
      "|John|[1, 2, 3]|\n",
      "|Jane|[4, 5, 6]|\n",
      "|Jake|[7, 8, 9]|\n",
      "+----+---------+\n",
      "\n"
     ]
    }
   ],
   "source": [
    "data = [(\"John\", [1, 2, 3]), (\"Jane\", [4, 5, 6]), (\"Jake\", [7, 8, 9])]\n",
    "columns = [\"name\", \"numbers\"]\n",
    "\n",
    "df = spark.createDataFrame(data, columns)\n",
    "\n",
    "df.show()"
   ]
  },
  {
   "cell_type": "code",
   "execution_count": 7,
   "metadata": {},
   "outputs": [
    {
     "name": "stdout",
     "output_type": "stream",
     "text": [
      "+----+---------+-------------------+\n",
      "|name|  numbers|numbers_transformed|\n",
      "+----+---------+-------------------+\n",
      "|John|[1, 2, 3]|          [2, 3, 4]|\n",
      "|Jane|[4, 5, 6]|          [5, 6, 7]|\n",
      "|Jake|[7, 8, 9]|         [8, 9, 10]|\n",
      "+----+---------+-------------------+\n",
      "\n"
     ]
    }
   ],
   "source": [
    "from pyspark.sql.functions import expr,transform\n",
    "\n",
    "df_transformed = df.withColumn(\"numbers_transformed\", expr(\"transform(numbers, x -> x + 1)\"))\n",
    "\n",
    "df_transformed.show()\n"
   ]
  },
  {
   "cell_type": "code",
   "execution_count": 8,
   "metadata": {},
   "outputs": [
    {
     "name": "stdout",
     "output_type": "stream",
     "text": [
      "+----+-------------+\n",
      "|name|double_number|\n",
      "+----+-------------+\n",
      "|John|    [2, 4, 6]|\n",
      "|Jane|  [8, 10, 12]|\n",
      "|Jake| [14, 16, 18]|\n",
      "+----+-------------+\n",
      "\n"
     ]
    }
   ],
   "source": [
    "df_trans_double = df.select('name',transform('numbers',lambda x : x*2).alias('double_number'))\n",
    "df_trans_double.show()"
   ]
  }
 ],
 "metadata": {
  "kernelspec": {
   "display_name": "pyspark_project_dev",
   "language": "python",
   "name": "python3"
  },
  "language_info": {
   "codemirror_mode": {
    "name": "ipython",
    "version": 3
   },
   "file_extension": ".py",
   "mimetype": "text/x-python",
   "name": "python",
   "nbconvert_exporter": "python",
   "pygments_lexer": "ipython3",
   "version": "3.11.0"
  }
 },
 "nbformat": 4,
 "nbformat_minor": 2
}
