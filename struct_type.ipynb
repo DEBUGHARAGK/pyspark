{
 "cells": [
  {
   "cell_type": "code",
   "execution_count": 1,
   "metadata": {},
   "outputs": [],
   "source": [
    "from pyspark.sql import SparkSession\n",
    "spark = SparkSession.builder \\\n",
    "    .appName(\"struct_type\") \\\n",
    "    .getOrCreate()"
   ]
  },
  {
   "cell_type": "code",
   "execution_count": 4,
   "metadata": {},
   "outputs": [
    {
     "name": "stdout",
     "output_type": "stream",
     "text": [
      "+---+-------+\n",
      "| id|   name|\n",
      "+---+-------+\n",
      "|  1|    sai|\n",
      "|  2|pradeep|\n",
      "+---+-------+\n",
      "\n",
      "root\n",
      " |-- id: integer (nullable = true)\n",
      " |-- name: string (nullable = true)\n",
      "\n"
     ]
    }
   ],
   "source": [
    "data = [(1,'sai'),(2,'pradeep')]\n",
    "\n",
    "from pyspark.sql.types import *\n",
    "\n",
    "schema = StructType([StructField(name = 'id',dataType=IntegerType()),\n",
    "                     StructField(name='name',dataType=StringType())]    \n",
    ")\n",
    "\n",
    "output_df = spark.createDataFrame(data = data,schema=schema)\n",
    "\n",
    "output_df.show()\n",
    "\n",
    "output_df.printSchema()"
   ]
  },
  {
   "cell_type": "markdown",
   "metadata": {},
   "source": [
    "creating schema with dictionaries"
   ]
  },
  {
   "cell_type": "code",
   "execution_count": 5,
   "metadata": {},
   "outputs": [
    {
     "name": "stdout",
     "output_type": "stream",
     "text": [
      "+---+-------+\n",
      "| id|   name|\n",
      "+---+-------+\n",
      "|  1|pradeep|\n",
      "|  2|    sai|\n",
      "+---+-------+\n",
      "\n",
      "root\n",
      " |-- id: long (nullable = true)\n",
      " |-- name: string (nullable = true)\n",
      "\n"
     ]
    }
   ],
   "source": [
    "data2 = [{'id':1,'name':'pradeep'},{'id':2,'name':'sai'}]\n",
    "df2 = spark.createDataFrame(data=data2)\n",
    "df2.show()\n",
    "df2.printSchema()"
   ]
  },
  {
   "cell_type": "markdown",
   "metadata": {},
   "source": [
    "struct type with nested columns"
   ]
  },
  {
   "cell_type": "code",
   "execution_count": 4,
   "metadata": {},
   "outputs": [
    {
     "name": "stdout",
     "output_type": "stream",
     "text": [
      "+---+-----------------+------+\n",
      "| id|             name|salary|\n",
      "+---+-----------------+------+\n",
      "|  1|    {baggam, sai}|  3000|\n",
      "|  2|{baggam, pradeep}|  6000|\n",
      "+---+-----------------+------+\n",
      "\n",
      "root\n",
      " |-- id: integer (nullable = true)\n",
      " |-- name: struct (nullable = true)\n",
      " |    |-- first_name: string (nullable = true)\n",
      " |    |-- last_name: string (nullable = true)\n",
      " |-- salary: string (nullable = true)\n",
      "\n"
     ]
    }
   ],
   "source": [
    "\n",
    "\n",
    "from pyspark.sql.types import StructField,StringType,IntegerType,StringType,StructType\n",
    "\n",
    "data = [(1,('baggam','sai'),3000),(2,('baggam','pradeep'),6000)]\n",
    "\n",
    "structName = StructType([StructField('first_name',StringType()),\\\n",
    "                         StructField('last_name',StringType())])\n",
    "\n",
    "schema = StructType([StructField('id',IntegerType()),\n",
    "                     StructField('name',structName),\n",
    "                     StructField('salary',StringType())]    \n",
    ")\n",
    "\n",
    "output_df = spark.createDataFrame(data=data,schema=schema)\n",
    "\n",
    "output_df.show()\n",
    "\n",
    "output_df.printSchema()"
   ]
  }
 ],
 "metadata": {
  "kernelspec": {
   "display_name": "pyspark_project_dev",
   "language": "python",
   "name": "python3"
  },
  "language_info": {
   "codemirror_mode": {
    "name": "ipython",
    "version": 3
   },
   "file_extension": ".py",
   "mimetype": "text/x-python",
   "name": "python",
   "nbconvert_exporter": "python",
   "pygments_lexer": "ipython3",
   "version": "3.11.0"
  }
 },
 "nbformat": 4,
 "nbformat_minor": 2
}
