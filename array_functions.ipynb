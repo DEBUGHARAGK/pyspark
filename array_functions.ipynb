{
 "cells": [
  {
   "cell_type": "code",
   "execution_count": 9,
   "metadata": {},
   "outputs": [],
   "source": [
    "from pyspark.sql import SparkSession\n",
    "spark = SparkSession.builder.appName(\"Array_functions\").getOrCreate()"
   ]
  },
  {
   "cell_type": "markdown",
   "metadata": {},
   "source": [
    "split"
   ]
  },
  {
   "cell_type": "code",
   "execution_count": 3,
   "metadata": {},
   "outputs": [
    {
     "name": "stdout",
     "output_type": "stream",
     "text": [
      "+----------+-------------+\n",
      "| full_name|        names|\n",
      "+----------+-------------+\n",
      "|  John Doe|  [John, Doe]|\n",
      "|Jane Smith|[Jane, Smith]|\n",
      "+----------+-------------+\n",
      "\n"
     ]
    }
   ],
   "source": [
    "from pyspark.sql.functions import split,col\n",
    "\n",
    "# Sample data\n",
    "data = [(\"John Doe\",), (\"Jane Smith\",)]\n",
    "df = spark.createDataFrame(data, [\"full_name\"])\n",
    "\n",
    "# Split the full_name column into first and last names\n",
    "df_split = df.withColumn(\"names\", split(col(\"full_name\"), \" \"))\n",
    "\n",
    "df_split.show()\n"
   ]
  },
  {
   "cell_type": "markdown",
   "metadata": {},
   "source": [
    "array_contains"
   ]
  },
  {
   "cell_type": "code",
   "execution_count": 4,
   "metadata": {},
   "outputs": [
    {
     "name": "stdout",
     "output_type": "stream",
     "text": [
      "+----+---------+-----+\n",
      "|name|  numbers|has_2|\n",
      "+----+---------+-----+\n",
      "|John|[1, 2, 3]| true|\n",
      "|Jane|[4, 5, 6]|false|\n",
      "+----+---------+-----+\n",
      "\n"
     ]
    }
   ],
   "source": [
    "from pyspark.sql.functions import array_contains,col\n",
    "\n",
    "# Sample data\n",
    "data = [(\"John\", [1, 2, 3]), (\"Jane\", [4, 5, 6])]\n",
    "df = spark.createDataFrame(data, [\"name\", \"numbers\"])\n",
    "\n",
    "# Check if the array contains the number 2\n",
    "df_contains = df.withColumn(\"has_2\", array_contains(col(\"numbers\"), 2))\n",
    "\n",
    "df_contains.show()\n"
   ]
  },
  {
   "cell_type": "markdown",
   "metadata": {},
   "source": [
    "array_zip"
   ]
  },
  {
   "cell_type": "code",
   "execution_count": null,
   "metadata": {},
   "outputs": [],
   "source": [
    "from pyspark.sql.functions import array_zip\n",
    "\n",
    "# Sample data\n",
    "data = [(\"John\", [1, 2, 3], [\"A\", \"B\", \"C\"])]\n",
    "df = spark.createDataFrame(data, [\"name\", \"numbers1\", \"numbers2\"])\n",
    "\n",
    "# Zip the two arrays\n",
    "df_zip = df.withColumn(\"zipped\", array_zip(col(\"numbers1\"), col(\"numbers2\")))\n",
    "\n",
    "df_zip.show(truncate=False)\n"
   ]
  },
  {
   "cell_type": "markdown",
   "metadata": {},
   "source": [
    "array_intersect"
   ]
  },
  {
   "cell_type": "code",
   "execution_count": 11,
   "metadata": {},
   "outputs": [
    {
     "name": "stdout",
     "output_type": "stream",
     "text": [
      "+----+---------+---------+------------+\n",
      "|name| numbers1| numbers2|intersection|\n",
      "+----+---------+---------+------------+\n",
      "|John|[1, 2, 3]|[2, 3, 4]|      [2, 3]|\n",
      "+----+---------+---------+------------+\n",
      "\n"
     ]
    }
   ],
   "source": [
    "from pyspark.sql.functions import array_intersect\n",
    "\n",
    "# Sample data\n",
    "data = [(\"John\", [1, 2, 3], [2, 3, 4])]\n",
    "df = spark.createDataFrame(data, [\"name\", \"numbers1\", \"numbers2\"])\n",
    "\n",
    "# Find intersection of the two arrays\n",
    "df_intersect = df.withColumn(\"intersection\", array_intersect(col(\"numbers1\"), col(\"numbers2\")))\n",
    "\n",
    "df_intersect.show()\n"
   ]
  },
  {
   "cell_type": "markdown",
   "metadata": {},
   "source": [
    "array_sort"
   ]
  },
  {
   "cell_type": "code",
   "execution_count": 12,
   "metadata": {},
   "outputs": [
    {
     "name": "stdout",
     "output_type": "stream",
     "text": [
      "+----+---------+--------------+\n",
      "|name|  numbers|sorted_numbers|\n",
      "+----+---------+--------------+\n",
      "|John|[3, 1, 2]|     [1, 2, 3]|\n",
      "+----+---------+--------------+\n",
      "\n"
     ]
    }
   ],
   "source": [
    "from pyspark.sql.functions import array_sort\n",
    "\n",
    "# Sample data\n",
    "data = [(\"John\", [3, 1, 2])]\n",
    "df = spark.createDataFrame(data, [\"name\", \"numbers\"])\n",
    "\n",
    "# Sort the array\n",
    "df_sorted = df.withColumn(\"sorted_numbers\", array_sort(col(\"numbers\")))\n",
    "\n",
    "df_sorted.show()\n"
   ]
  }
 ],
 "metadata": {
  "kernelspec": {
   "display_name": "pyspark_project_dev",
   "language": "python",
   "name": "python3"
  },
  "language_info": {
   "codemirror_mode": {
    "name": "ipython",
    "version": 3
   },
   "file_extension": ".py",
   "mimetype": "text/x-python",
   "name": "python",
   "nbconvert_exporter": "python",
   "pygments_lexer": "ipython3",
   "version": "3.11.0"
  }
 },
 "nbformat": 4,
 "nbformat_minor": 2
}
