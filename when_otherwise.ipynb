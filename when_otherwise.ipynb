{
 "cells": [
  {
   "cell_type": "code",
   "execution_count": 1,
   "metadata": {},
   "outputs": [],
   "source": [
    "from pyspark.sql import SparkSession\n",
    "spark = SparkSession.builder.appName(\"when_otherwise\").getOrCreate()"
   ]
  },
  {
   "cell_type": "code",
   "execution_count": 2,
   "metadata": {},
   "outputs": [
    {
     "name": "stdout",
     "output_type": "stream",
     "text": [
      "+----+---+\n",
      "|name|age|\n",
      "+----+---+\n",
      "|John| 30|\n",
      "|Jane| 17|\n",
      "|Jake| 45|\n",
      "|Jill| 12|\n",
      "+----+---+\n",
      "\n"
     ]
    }
   ],
   "source": [
    "from pyspark.sql.functions import col, when\n",
    "\n",
    "# Sample data\n",
    "data = [(\"John\", 30), (\"Jane\", 17), (\"Jake\", 45), (\"Jill\", 12)]\n",
    "df = spark.createDataFrame(data, [\"name\", \"age\"])\n",
    "\n",
    "df.show()\n"
   ]
  },
  {
   "cell_type": "code",
   "execution_count": 4,
   "metadata": {},
   "outputs": [
    {
     "name": "stdout",
     "output_type": "stream",
     "text": [
      "+----+---+---------+\n",
      "|name|age|age_group|\n",
      "+----+---+---------+\n",
      "|John| 30|    adult|\n",
      "|Jane| 17|    minor|\n",
      "|Jake| 45|    adult|\n",
      "|Jill| 12|    minor|\n",
      "+----+---+---------+\n",
      "\n"
     ]
    }
   ],
   "source": [
    "# Create a new column 'age_group' based on the value of 'age'\n",
    "df_with_age_group = df.withColumn(\n",
    "    \"age_group\",\n",
    "    when(col(\"age\")<18,\"minor\")\n",
    "    .when((col(\"age\")>18) & (col(\"age\")<60),\"adult\")\n",
    "    .otherwise(\"senior\")\n",
    ")\n",
    "\n",
    "df_with_age_group.show()"
   ]
  },
  {
   "cell_type": "markdown",
   "metadata": {},
   "source": [
    "Modifying an Existing Column"
   ]
  },
  {
   "cell_type": "code",
   "execution_count": 5,
   "metadata": {},
   "outputs": [
    {
     "name": "stdout",
     "output_type": "stream",
     "text": [
      "+----+---+\n",
      "|name|age|\n",
      "+----+---+\n",
      "|John| 30|\n",
      "|Jane| 18|\n",
      "|Jake| 45|\n",
      "|Jill| 13|\n",
      "+----+---+\n",
      "\n"
     ]
    }
   ],
   "source": [
    "df_modified_age = df.withColumn(\n",
    "    \"age\",\n",
    "    when(col(\"age\") < 18, col(\"age\") + 1)\n",
    "    .otherwise(col(\"age\"))\n",
    ")\n",
    "\n",
    "df_modified_age.show()\n"
   ]
  }
 ],
 "metadata": {
  "kernelspec": {
   "display_name": "pyspark_project_dev",
   "language": "python",
   "name": "python3"
  },
  "language_info": {
   "codemirror_mode": {
    "name": "ipython",
    "version": 3
   },
   "file_extension": ".py",
   "mimetype": "text/x-python",
   "name": "python",
   "nbconvert_exporter": "python",
   "pygments_lexer": "ipython3",
   "version": "3.11.0"
  }
 },
 "nbformat": 4,
 "nbformat_minor": 2
}
