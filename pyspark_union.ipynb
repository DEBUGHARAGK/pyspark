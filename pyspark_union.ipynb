{
 "cells": [
  {
   "cell_type": "code",
   "execution_count": 6,
   "metadata": {},
   "outputs": [],
   "source": [
    "from pyspark.sql import SparkSession"
   ]
  },
  {
   "cell_type": "code",
   "execution_count": 7,
   "metadata": {},
   "outputs": [],
   "source": [
    "spark = SparkSession.builder.master('local').getOrCreate()"
   ]
  },
  {
   "cell_type": "code",
   "execution_count": 8,
   "metadata": {},
   "outputs": [],
   "source": [
    "employee_schema = [\"employee_id\",\"name\",\"doj\",\"employee_dept_id\",\"gender\",\"salary\"]"
   ]
  },
  {
   "cell_type": "code",
   "execution_count": 9,
   "metadata": {},
   "outputs": [],
   "source": [
    "employee_data = [(1,\"pradeep\",\"2016\",100,\"M\",30000),(2,\"sai\",\"2016\",200,\"M\",60000),(3,\"pra\",\"2016\",300,\"M\",90000)]"
   ]
  },
  {
   "cell_type": "code",
   "execution_count": 10,
   "metadata": {},
   "outputs": [
    {
     "name": "stdout",
     "output_type": "stream",
     "text": [
      "+-----------+-------+----+----------------+------+------+\n",
      "|employee_id|   name| doj|employee_dept_id|gender|salary|\n",
      "+-----------+-------+----+----------------+------+------+\n",
      "|          1|pradeep|2016|             100|     M| 30000|\n",
      "|          2|    sai|2016|             200|     M| 60000|\n",
      "|          3|    pra|2016|             300|     M| 90000|\n",
      "+-----------+-------+----+----------------+------+------+\n",
      "\n"
     ]
    }
   ],
   "source": [
    "df1 = spark.createDataFrame(employee_data,employee_schema)\n",
    "df1.show()"
   ]
  },
  {
   "cell_type": "code",
   "execution_count": 23,
   "metadata": {},
   "outputs": [],
   "source": [
    "employee_data2 = [(3,\"pra\",\"2016\",300,\"M\",90000),(5,\"sai\",\"2016\",200,\"M\",60000),(6,\"pra\",\"2016\",300,\"M\",90000)]"
   ]
  },
  {
   "cell_type": "code",
   "execution_count": 24,
   "metadata": {},
   "outputs": [],
   "source": [
    "df2 = spark.createDataFrame(employee_data2,employee_schema)"
   ]
  },
  {
   "cell_type": "code",
   "execution_count": 25,
   "metadata": {},
   "outputs": [
    {
     "name": "stdout",
     "output_type": "stream",
     "text": [
      "+-----------+----+----+----------------+------+------+\n",
      "|employee_id|name| doj|employee_dept_id|gender|salary|\n",
      "+-----------+----+----+----------------+------+------+\n",
      "|          3| pra|2016|             300|     M| 90000|\n",
      "|          5| sai|2016|             200|     M| 60000|\n",
      "|          6| pra|2016|             300|     M| 90000|\n",
      "+-----------+----+----+----------------+------+------+\n",
      "\n"
     ]
    }
   ],
   "source": [
    "df2.show()"
   ]
  },
  {
   "cell_type": "code",
   "execution_count": 26,
   "metadata": {},
   "outputs": [],
   "source": [
    "df_union = df1.union(df2)"
   ]
  },
  {
   "cell_type": "code",
   "execution_count": 27,
   "metadata": {},
   "outputs": [
    {
     "name": "stdout",
     "output_type": "stream",
     "text": [
      "+-----------+-------+----+----------------+------+------+\n",
      "|employee_id|   name| doj|employee_dept_id|gender|salary|\n",
      "+-----------+-------+----+----------------+------+------+\n",
      "|          1|pradeep|2016|             100|     M| 30000|\n",
      "|          2|    sai|2016|             200|     M| 60000|\n",
      "|          3|    pra|2016|             300|     M| 90000|\n",
      "|          3|    pra|2016|             300|     M| 90000|\n",
      "|          5|    sai|2016|             200|     M| 60000|\n",
      "|          6|    pra|2016|             300|     M| 90000|\n",
      "+-----------+-------+----+----------------+------+------+\n",
      "\n"
     ]
    }
   ],
   "source": [
    "df_union.show()"
   ]
  },
  {
   "cell_type": "code",
   "execution_count": 28,
   "metadata": {},
   "outputs": [
    {
     "name": "stdout",
     "output_type": "stream",
     "text": [
      "+-----------+-------+----+----------------+------+------+\n",
      "|employee_id|   name| doj|employee_dept_id|gender|salary|\n",
      "+-----------+-------+----+----------------+------+------+\n",
      "|          1|pradeep|2016|             100|     M| 30000|\n",
      "|          3|    pra|2016|             300|     M| 90000|\n",
      "|          2|    sai|2016|             200|     M| 60000|\n",
      "|          5|    sai|2016|             200|     M| 60000|\n",
      "|          6|    pra|2016|             300|     M| 90000|\n",
      "+-----------+-------+----+----------------+------+------+\n",
      "\n"
     ]
    }
   ],
   "source": [
    "df_union.dropDuplicates().show()"
   ]
  },
  {
   "cell_type": "code",
   "execution_count": 30,
   "metadata": {},
   "outputs": [],
   "source": [
    "df_unionall = df1.unionAll(df2)"
   ]
  },
  {
   "cell_type": "code",
   "execution_count": 32,
   "metadata": {},
   "outputs": [
    {
     "name": "stdout",
     "output_type": "stream",
     "text": [
      "+-----------+-------+----+----------------+------+------+\n",
      "|employee_id|   name| doj|employee_dept_id|gender|salary|\n",
      "+-----------+-------+----+----------------+------+------+\n",
      "|          1|pradeep|2016|             100|     M| 30000|\n",
      "|          2|    sai|2016|             200|     M| 60000|\n",
      "|          3|    pra|2016|             300|     M| 90000|\n",
      "|          3|    pra|2016|             300|     M| 90000|\n",
      "|          5|    sai|2016|             200|     M| 60000|\n",
      "|          6|    pra|2016|             300|     M| 90000|\n",
      "+-----------+-------+----+----------------+------+------+\n",
      "\n"
     ]
    }
   ],
   "source": [
    "df_unionall.show()"
   ]
  },
  {
   "cell_type": "code",
   "execution_count": 34,
   "metadata": {},
   "outputs": [
    {
     "name": "stdout",
     "output_type": "stream",
     "text": [
      "+-----------+-------+----+----------------+------+------+\n",
      "|employee_id|   name| doj|employee_dept_id|gender|salary|\n",
      "+-----------+-------+----+----------------+------+------+\n",
      "|          1|pradeep|2016|             100|     M| 30000|\n",
      "|          3|    pra|2016|             300|     M| 90000|\n",
      "|          2|    sai|2016|             200|     M| 60000|\n",
      "|          5|    sai|2016|             200|     M| 60000|\n",
      "|          6|    pra|2016|             300|     M| 90000|\n",
      "+-----------+-------+----+----------------+------+------+\n",
      "\n"
     ]
    }
   ],
   "source": [
    "df_unionall.dropDuplicates().show()"
   ]
  }
 ],
 "metadata": {
  "kernelspec": {
   "display_name": "pyspark_project_dev",
   "language": "python",
   "name": "python3"
  },
  "language_info": {
   "codemirror_mode": {
    "name": "ipython",
    "version": 3
   },
   "file_extension": ".py",
   "mimetype": "text/x-python",
   "name": "python",
   "nbconvert_exporter": "python",
   "pygments_lexer": "ipython3",
   "version": "3.11.0"
  },
  "orig_nbformat": 4
 },
 "nbformat": 4,
 "nbformat_minor": 2
}
