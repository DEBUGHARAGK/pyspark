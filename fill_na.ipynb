{
 "cells": [
  {
   "cell_type": "code",
   "execution_count": 1,
   "metadata": {},
   "outputs": [],
   "source": [
    "from pyspark.sql import SparkSession\n",
    "spark = SparkSession.builder.appName(\"fill_na\").getOrCreate()"
   ]
  },
  {
   "cell_type": "code",
   "execution_count": 2,
   "metadata": {},
   "outputs": [
    {
     "name": "stdout",
     "output_type": "stream",
     "text": [
      "+----+------+----+\n",
      "|  id|salary|name|\n",
      "+----+------+----+\n",
      "|   1|  null|John|\n",
      "|   2|  2000|null|\n",
      "|null|  3000|Jane|\n",
      "|   4|  null| Joe|\n",
      "+----+------+----+\n",
      "\n"
     ]
    }
   ],
   "source": [
    "data = [(1, None, \"John\"),\n",
    "        (2, 2000, None),\n",
    "        (None, 3000, \"Jane\"),\n",
    "        (4, None, \"Joe\")]\n",
    "\n",
    "columns = [\"id\", \"salary\", \"name\"]\n",
    "\n",
    "df = spark.createDataFrame(data, columns)\n",
    "\n",
    "df.show()\n"
   ]
  },
  {
   "cell_type": "code",
   "execution_count": 6,
   "metadata": {},
   "outputs": [
    {
     "name": "stdout",
     "output_type": "stream",
     "text": [
      "+---+------+----+\n",
      "| id|salary|name|\n",
      "+---+------+----+\n",
      "|  1|     0|John|\n",
      "|  2|  2000|null|\n",
      "|  0|  3000|Jane|\n",
      "|  4|     0| Joe|\n",
      "+---+------+----+\n",
      "\n",
      "+----+------+-------+\n",
      "|  id|salary|   name|\n",
      "+----+------+-------+\n",
      "|   1|  null|   John|\n",
      "|   2|  2000|unknown|\n",
      "|null|  3000|   Jane|\n",
      "|   4|  null|    Joe|\n",
      "+----+------+-------+\n",
      "\n"
     ]
    }
   ],
   "source": [
    "# Replace NaN/Null values in all columns with a specific value\n",
    "df_filled = df.fillna(0)\n",
    "df_filled.show()\n",
    "\n",
    "df.na.fill('unknown',['name']).show()"
   ]
  }
 ],
 "metadata": {
  "kernelspec": {
   "display_name": "pyspark_project_dev",
   "language": "python",
   "name": "python3"
  },
  "language_info": {
   "codemirror_mode": {
    "name": "ipython",
    "version": 3
   },
   "file_extension": ".py",
   "mimetype": "text/x-python",
   "name": "python",
   "nbconvert_exporter": "python",
   "pygments_lexer": "ipython3",
   "version": "3.11.0"
  }
 },
 "nbformat": 4,
 "nbformat_minor": 2
}
